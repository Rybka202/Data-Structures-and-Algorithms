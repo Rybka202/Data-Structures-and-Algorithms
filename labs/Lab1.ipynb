{
 "cells": [
  {
   "cell_type": "markdown",
   "id": "cb68f0c8",
   "metadata": {},
   "source": [
    "# Лабораторная работа №1\n",
    "## Выполнил студент группы БФИ2001 Рыбка Семён\n",
    "### Задание №1"
   ]
  },
  {
   "cell_type": "code",
   "execution_count": 1,
   "id": "ab165b91",
   "metadata": {
    "scrolled": true
   },
   "outputs": [
    {
     "name": "stdout",
     "output_type": "stream",
     "text": [
      "Hello World\n"
     ]
    }
   ],
   "source": [
    "print ('Hello World')"
   ]
  },
  {
   "cell_type": "markdown",
   "id": "56e3a653",
   "metadata": {},
   "source": [
    "### Задание №2"
   ]
  },
  {
   "cell_type": "code",
   "execution_count": 2,
   "id": "f86a5460",
   "metadata": {},
   "outputs": [
    {
     "name": "stdout",
     "output_type": "stream",
     "text": [
      "Введите количество строк: \n"
     ]
    }
   ],
   "source": [
    "import random\n",
    "import time\n",
    "import copy\n",
    "import math\n",
    "\n",
    "def generatorMatrices (n = 50, m = 50, min_lim = -250, max_lim = 1017):\n",
    "    matrices = [[random.randint(min_lim, max_lim) for j in range(m)] for i in range(n)]\n",
    "    return matrices\n",
    "try:\n",
    "    n = int(input('Введите количество строк: '))\n",
    "    m = int(input('Введите количество столбцов: '))\n",
    "    min_lim = float(input('Введите минимальное значение матрицы: '))\n",
    "    max_lim = float(input('Введите максимальное значение матрицы: '))\n",
    "    matr = generatorMatrices(n, m, min_lim, max_lim)\n",
    "except ValueError:\n",
    "    matr = generatorMatrices()"
   ]
  },
  {
   "cell_type": "markdown",
   "id": "7136acd1",
   "metadata": {},
   "source": [
    "### Задание №3"
   ]
  },
  {
   "cell_type": "code",
   "execution_count": 3,
   "id": "336356a3",
   "metadata": {},
   "outputs": [],
   "source": [
    "# сортировка выбором\n",
    "def selection_sort(matrices):\n",
    "    for mas in matrices: \n",
    "        for i in range(0, len(mas) - 1):\n",
    "            smallest = i\n",
    "            for j in range(i + 1, len(mas)):\n",
    "                if mas[j] < mas[smallest]:\n",
    "                    smallest = j\n",
    "            mas[i], mas[smallest] = mas[smallest], mas[i]\n",
    "    return matrices"
   ]
  },
  {
   "cell_type": "code",
   "execution_count": 4,
   "id": "b521742f",
   "metadata": {},
   "outputs": [
    {
     "name": "stdout",
     "output_type": "stream",
     "text": [
      "--- 10 ms ---\n"
     ]
    }
   ],
   "source": [
    "start_time = time.time()\n",
    "matrCopy1 = copy.deepcopy(matr)\n",
    "selection_sort(matrCopy1)\n",
    "print(\"--- {0} ms ---\".format(round((time.time() - start_time)*1000)))"
   ]
  },
  {
   "cell_type": "code",
   "execution_count": 5,
   "id": "507a8560",
   "metadata": {},
   "outputs": [],
   "source": [
    "# сортировка вставками\n",
    "def insertion_sort(matrices):\n",
    "    for mas in matrices:\n",
    "        for i in range(1, len(mas)):\n",
    "            temp = mas[i]\n",
    "            j = i - 1\n",
    "            while (j >= 0 and temp < mas[j]):\n",
    "                mas[j + 1] = mas[j]\n",
    "                j = j - 1\n",
    "            mas[j + 1] = temp\n",
    "    return matrices\n"
   ]
  },
  {
   "cell_type": "code",
   "execution_count": 6,
   "id": "f6714b4f",
   "metadata": {},
   "outputs": [
    {
     "name": "stdout",
     "output_type": "stream",
     "text": [
      "--- 7 ms ---\n"
     ]
    }
   ],
   "source": [
    "start_time = time.time()\n",
    "matrCopy2 = copy.deepcopy(matr)\n",
    "insertion_sort(matrCopy2)\n",
    "print(\"--- {0} ms ---\".format(round((time.time() - start_time)*1000)))"
   ]
  },
  {
   "cell_type": "code",
   "execution_count": 7,
   "id": "38bc0e0f",
   "metadata": {},
   "outputs": [],
   "source": [
    "# сортировка обменом\n",
    "def bubbleSort(matrices):\n",
    "    for mas in matrices:\n",
    "        swapped = False\n",
    "        for i in range(len(mas)-1,0,-1):\n",
    "            for j in range(i):\n",
    "                if mas[j]> mas[j+1]:\n",
    "                    mas[j], mas[j+1] = mas[j+1], mas[j]\n",
    "                    swapped= True\n",
    "            if swapped:\n",
    "                swapped=False\n",
    "            else:\n",
    "                break\n",
    "    return matrices"
   ]
  },
  {
   "cell_type": "code",
   "execution_count": 8,
   "id": "e7ebc8b2",
   "metadata": {},
   "outputs": [
    {
     "name": "stdout",
     "output_type": "stream",
     "text": [
      "--- 16 ms ---\n"
     ]
    }
   ],
   "source": [
    "start_time = time.time()\n",
    "matrCopy3 = copy.deepcopy(matr)\n",
    "bubbleSort(matrCopy3)\n",
    "print(\"--- {0} ms ---\".format(round((time.time() - start_time)*1000)))"
   ]
  },
  {
   "cell_type": "code",
   "execution_count": 9,
   "id": "7acb43fc",
   "metadata": {},
   "outputs": [],
   "source": [
    "# сортировка Шелла\n",
    "def shellSort(matrices):\n",
    "    for mas in matrices:\n",
    "        n = len(mas)\n",
    "        k = int(math.log2(n))\n",
    "        interval = 2**k -1\n",
    "        while interval > 0:\n",
    "            for i in range(interval, n):\n",
    "                temp = mas[i]\n",
    "                j = i\n",
    "                while j >= interval and mas[j - interval] > temp:\n",
    "                    mas[j] = mas[j - interval]\n",
    "                    j -= interval\n",
    "                mas[j] = temp\n",
    "            k -= 1\n",
    "            interval = 2**k -1\n",
    "    return matrices"
   ]
  },
  {
   "cell_type": "code",
   "execution_count": 10,
   "id": "27df9dc0",
   "metadata": {},
   "outputs": [
    {
     "name": "stdout",
     "output_type": "stream",
     "text": [
      "--- 5 ms ---\n"
     ]
    }
   ],
   "source": [
    "start_time = time.time()\n",
    "matrCopy4 = copy.deepcopy(matr)\n",
    "shellSort(matrCopy4)\n",
    "print(\"--- {0} ms ---\".format(round((time.time() - start_time)*1000)))"
   ]
  },
  {
   "cell_type": "code",
   "execution_count": 11,
   "id": "ec1d912e",
   "metadata": {},
   "outputs": [],
   "source": [
    "# быстрая сортировка\n",
    "def quickSort(matrices):\n",
    "    i=0\n",
    "    for mas in matrices:\n",
    "        matrices[i] = quicksort_arrays(mas)\n",
    "        i+=1\n",
    "    return matrices\n",
    "\n",
    "\n",
    "def quicksort_arrays(mas):\n",
    "    if len(mas) > 1:\n",
    "        pivot = random.choice(mas)\n",
    "        smaller_mas = []\n",
    "        more_mas = []\n",
    "        equal_mas = []\n",
    "        for n in mas:\n",
    "            if n < pivot:\n",
    "                smaller_mas.append(n)\n",
    "            elif n > pivot:\n",
    "                more_mas.append(n)\n",
    "            else:\n",
    "                equal_mas.append(n)\n",
    "        return quicksort_arrays(smaller_mas) + equal_mas + quicksort_arrays(more_mas)\n",
    "    return mas"
   ]
  },
  {
   "cell_type": "code",
   "execution_count": 12,
   "id": "2dedfcc0",
   "metadata": {},
   "outputs": [
    {
     "name": "stdout",
     "output_type": "stream",
     "text": [
      "--- 6 ms ---\n"
     ]
    }
   ],
   "source": [
    "start_time = time.time()\n",
    "matrCopy5 = copy.deepcopy(matr)\n",
    "quickSort(matrCopy5)\n",
    "print(\"--- {0} ms ---\".format(round((time.time() - start_time)*1000)))"
   ]
  },
  {
   "cell_type": "code",
   "execution_count": 13,
   "id": "59222fa1",
   "metadata": {},
   "outputs": [],
   "source": [
    "# сортировка python\n",
    "def python_sort(matrices):\n",
    "    for mas in matrices:\n",
    "        mas.sort()\n",
    "    return matrices"
   ]
  },
  {
   "cell_type": "code",
   "execution_count": 14,
   "id": "88911ae7",
   "metadata": {},
   "outputs": [
    {
     "name": "stdout",
     "output_type": "stream",
     "text": [
      "--- 3 ms ---\n"
     ]
    }
   ],
   "source": [
    "start_time = time.time()\n",
    "matrCopy6 = copy.deepcopy(matr)\n",
    "python_sort(matrCopy6)\n",
    "print(\"--- {0} ms ---\".format(round((time.time() - start_time)*1000)))"
   ]
  },
  {
   "cell_type": "code",
   "execution_count": 15,
   "id": "f1b8882f",
   "metadata": {},
   "outputs": [],
   "source": [
    "# турнирная сортировка\n",
    "class TournamentHeap:\n",
    "    def __init__(self):\n",
    "        self.mas = []\n",
    "        self.size = 0\n",
    "        self.max_size = 32\n",
    "    def pop_max(self):\n",
    "        rez = self.mas[0]\n",
    "        self.size -= 1\n",
    "        self.mas[0] = self.mas[self.size]\n",
    "        self.mas.pop(self.size)\n",
    "        self.iter_heapify(0)\n",
    "        return rez\n",
    "    def max_heap_insert(self, key):\n",
    "        self.mas.append(-10000000000000)\n",
    "        self.insert_key(key, self.size)\n",
    "        self.size += 1\n",
    "    def insert_key(self, value, i):\n",
    "        self.mas[i] = value\n",
    "        parent = self.parent(i)\n",
    "        while i > 0 and self.mas[parent] > self.mas[i]:\n",
    "            self.mas[parent], self.mas[i] = self.mas[i], self.mas[parent]\n",
    "            i = parent\n",
    "            parent = self.parent(i)\n",
    "    def parent(self, i):\n",
    "        rez = (i // 2) - 1\n",
    "        if rez < 0:\n",
    "            return 0\n",
    "        else:\n",
    "            return rez\n",
    "    def iter_heapify(self, i):\n",
    "        while True:\n",
    "            l = 2 * i + 1\n",
    "            r = 2 * i + 2\n",
    "            largest = i\n",
    "            if l < self.size and self.mas[l] < self.mas[largest]:\n",
    "                largest = l\n",
    "            if r < self.size and self.mas[r] < self.mas[largest]:\n",
    "                largest = r\n",
    "            if largest == i:\n",
    "                break\n",
    "            else:\n",
    "                self.mas[i], self.mas[largest] = self.mas[largest], self.mas[i]\n",
    "                i = largest\n",
    "                \n",
    "\n",
    "def tournament_sort(matrices):\n",
    "    i=0\n",
    "    for mas in matrices:\n",
    "        matrices[i] = tournament_sort_arrays(mas)\n",
    "        i+=1\n",
    "    return matrices\n",
    "\n",
    "def tournament_sort_arrays(mas):\n",
    "    length = len(mas)\n",
    "    winners = []\n",
    "    losers = []\n",
    "    heap = TournamentHeap()\n",
    "        \n",
    "    while heap.size < heap.max_size and heap.size < length:\n",
    "        elem = mas[heap.size]\n",
    "        if winners and winners[-1] > elem:\n",
    "            losers.append(elem)\n",
    "        else:\n",
    "            heap.max_heap_insert(mas[heap.size])\n",
    "        \n",
    "    for i in range(heap.size, length):\n",
    "        elem = mas[i]\n",
    "        if winners and winners[-1] > elem:\n",
    "            losers.append(elem)\n",
    "        else:\n",
    "            max_elem = heap.pop_max()\n",
    "            if not winners:\n",
    "                winners.append(max_elem)\n",
    "            elif winners[-1] <= max_elem:\n",
    "                winners.append(max_elem)\n",
    "            else:\n",
    "                losers.append(max_elem)\n",
    "            heap.max_heap_insert(elem)\n",
    "        \n",
    "    while heap.size > 0:\n",
    "        max_elem = heap.pop_max()\n",
    "        if not winners:\n",
    "            winners.append(max_elem)\n",
    "        elif winners[-1] <= max_elem:\n",
    "            winners.append(max_elem)\n",
    "        else:\n",
    "            losers.append(max_elem)\n",
    "        if not losers:\n",
    "            return winners\n",
    "        else:\n",
    "            winners2 = tournament_sort_arrays(losers)\n",
    "            i = 0\n",
    "            j = 0\n",
    "            winners1_len = len(winners)\n",
    "            winners2_len = len(winners2)\n",
    "            winners_rez = []\n",
    "                \n",
    "            while i < winners1_len and j < winners2_len:\n",
    "                if winners[i] < winners2[j]:\n",
    "                    winners_rez.append(winners[i])\n",
    "                    i += 1\n",
    "                else:\n",
    "                    winners_rez.append(winners2[j])\n",
    "                    j += 1\n",
    "            while i < winners1_len:\n",
    "                winners_rez.append(winners[i])\n",
    "                i += 1\n",
    "            while j < winners2_len:\n",
    "                winners_rez.append(winners2[j])\n",
    "                j += 1\n",
    "                    \n",
    "    return winners_rez\n",
    "            \n",
    "        "
   ]
  },
  {
   "cell_type": "code",
   "execution_count": 16,
   "id": "6e96b7ea",
   "metadata": {},
   "outputs": [
    {
     "name": "stdout",
     "output_type": "stream",
     "text": [
      "--- 37 ms ---\n"
     ]
    }
   ],
   "source": [
    "start_time = time.time()\n",
    "matrCopy7 = copy.deepcopy(matr)\n",
    "tournament_sort(matrCopy7)\n",
    "print(\"--- {0} ms ---\".format(round((time.time() - start_time)*1000)))"
   ]
  },
  {
   "cell_type": "markdown",
   "id": "73fa7824",
   "metadata": {},
   "source": [
    "## Вывод:\n",
    "### Сортировка выбором           10 ms\n",
    "### Сортировка вставкой             7 ms\n",
    "### Сортировка пузырьком        16 ms\n",
    "### Сортировка Шелла                 5 ms\n",
    "### Быстрая сортировка              6 ms\n",
    "### Турнирная сортировка          37 ms\n",
    "### Встроенная сортировка         3 ms"
   ]
  }
 ],
 "metadata": {
  "kernelspec": {
   "display_name": "Python 3 (ipykernel)",
   "language": "python",
   "name": "python3"
  },
  "language_info": {
   "codemirror_mode": {
    "name": "ipython",
    "version": 3
   },
   "file_extension": ".py",
   "mimetype": "text/x-python",
   "name": "python",
   "nbconvert_exporter": "python",
   "pygments_lexer": "ipython3",
   "version": "3.10.2"
  }
 },
 "nbformat": 4,
 "nbformat_minor": 5
}

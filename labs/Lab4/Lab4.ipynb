{
 "cells": [
  {
   "cell_type": "markdown",
   "id": "fifteen-sailing",
   "metadata": {},
   "source": [
    "# Лабораторная работа №4\n",
    "## Выполнил студент группы БФИ2001 Рыбка Семён Олегович"
   ]
  },
  {
   "cell_type": "markdown",
   "id": "arctic-stocks",
   "metadata": {},
   "source": [
    "Реализовать следующие структуры данных:\n",
    "  \n",
    "● <b> Стек (stack): </b>  \n",
    "Операции для стека: \n",
    "<i> инициализация, проверка на пустоту, добавление нового элемента в начало, извлечение элемента из начала;  </i>  \n",
    "  \n",
    "● <b> Дек (двусторонняя очередь, deque):  </b>  \n",
    "Операции для дека: \n",
    "<i> инициализация, проверка на пустоту, добавление нового элемента в начало, добавление нового элемента в конец, извлечение элемента из начала, извлечение элемента из конца. </i>  \n",
    "  \n",
    "<i> Разработать программу обработки данных, содержащихся в заранее подготовленном txt-файле, в соответствии с заданиями, применив указанную в задании структуру данных. Результат работы программы вывести на экран и сохранить в отдельном txt-файле. </i>"
   ]
  },
  {
   "cell_type": "code",
   "execution_count": 1,
   "id": "cfc6be80",
   "metadata": {},
   "outputs": [],
   "source": [
    "class stack:\n",
    "    def __init__(self):\n",
    "        self.stack = []\n",
    "        \n",
    "    def push(self, item):\n",
    "        self.stack.append(item)\n",
    "        \n",
    "    def top(self):\n",
    "        return self.stack[len(self.stack)-1]\n",
    "    \n",
    "    def empty(self):\n",
    "        if self.stack == []:\n",
    "            return True\n",
    "        else:\n",
    "            return False    \n",
    "    \n",
    "    def pop(self):\n",
    "        self.stack.pop()"
   ]
  },
  {
   "cell_type": "code",
   "execution_count": 2,
   "id": "ad0964ec",
   "metadata": {},
   "outputs": [],
   "source": [
    "import copy\n",
    "class deque:\n",
    "    def __init__(self, mas = []):\n",
    "        self.deque = copy.deepcopy(mas)\n",
    "        \n",
    "    def append(self, item):\n",
    "        self.deque.append(item)\n",
    "    \n",
    "    def appendleft(self, item):\n",
    "        self.deque.insert(0, item)\n",
    "    \n",
    "    def top(self):\n",
    "        return self.deque[len(self.deque)-1]\n",
    "    \n",
    "    def topleft(self):\n",
    "        return self.deque[0]\n",
    "    \n",
    "    def empty(self):\n",
    "        if self.deque == []:\n",
    "            return True\n",
    "        else:\n",
    "            return False    \n",
    "    \n",
    "    def pop(self):\n",
    "        self.deque.pop()\n",
    "        \n",
    "    def popleft(self):\n",
    "        self.deque.pop(0)"
   ]
  },
  {
   "cell_type": "markdown",
   "id": "5d7edb08",
   "metadata": {
    "scrolled": true
   },
   "source": [
    "### Задание №1\n",
    "Отсортировать строки файла, содержащие названия книг, в алфавитном порядке с использованием двух деков."
   ]
  },
  {
   "cell_type": "code",
   "execution_count": 3,
   "id": "17702ade",
   "metadata": {},
   "outputs": [
    {
     "name": "stdout",
     "output_type": "stream",
     "text": [
      "Алиса в стране чудес\n",
      "Игра в классики\n",
      "Капитанская дочка\n",
      "Над пропостью во ржи\n",
      "Повелитель мух\n",
      "Превращение\n",
      "Преступление и наказание\n",
      "Сто лет одиночества\n",
      "Тарас Бульба\n",
      "Трудно быть богом\n"
     ]
    }
   ],
   "source": [
    "deque1 = deque()\n",
    "deque2 = deque()\n",
    "with open(\"1.txt\",\"r\", encoding=\"utf-8\") as file:\n",
    "    for line in file:\n",
    "        line = line.replace('\\n','')\n",
    "        if deque1.empty() or deque1.top()<=line:\n",
    "            deque1.append(line)\n",
    "        elif deque1.topleft()>=line:\n",
    "            deque1.appendleft(line)\n",
    "        elif deque1.topleft()<line and deque1.top()>line:\n",
    "            while deque1.topleft()<line:\n",
    "                deque2.append(deque1.topleft())\n",
    "                deque1.popleft()\n",
    "            deque1.appendleft(line)\n",
    "            while not deque2.empty():\n",
    "                deque1.appendleft(deque2.top())\n",
    "                deque2.pop()\n",
    "\n",
    "with open(\"1_res.txt\",\"w\", encoding=\"utf-8\") as file:\n",
    "    while not deque1.empty():\n",
    "        print(deque1.topleft())\n",
    "        file.write(deque1.topleft()+'\\n')\n",
    "        deque1.popleft()"
   ]
  },
  {
   "cell_type": "markdown",
   "id": "49fbd2a0",
   "metadata": {},
   "source": [
    "### Задание №2\n",
    "Дек содержит последовательность символов для шифровки сообщений. Дан текстовый файл, содержащий зашифрованное сообщение. Пользуясь деком, расшифровать текст. \n",
    "Известно, что при шифровке каждый символ сообщения заменялся следующим за ним в деке по часовой стрелке через один."
   ]
  },
  {
   "cell_type": "code",
   "execution_count": 4,
   "id": "81cab7a8",
   "metadata": {},
   "outputs": [
    {
     "name": "stdout",
     "output_type": "stream",
     "text": [
      "сткджфуфдкж\n",
      "приветствие\n"
     ]
    }
   ],
   "source": [
    "with open(\"2.txt\",\"r\", encoding=\"utf-8\") as file:\n",
    "    text = file.read()\n",
    "print(text)\n",
    "def decryption(text):\n",
    "    code = deque(['а','б','в','г','д','е','ё','ж','з','и','й','к','л','м','н','о','п','р','с','т','у','ф','х','ц','ч','ш','щ'])\n",
    "    was_replace = [False]*len(text)\n",
    "    while not code.empty():\n",
    "        top = code.top()\n",
    "        if text.find(top)!=-1 and was_replace[text.find(top)]== False:\n",
    "            code.pop()\n",
    "            top1 = code.top()\n",
    "            code.pop()\n",
    "            was_replace[text.find(top)] = True\n",
    "            text = text.replace(top, code.top(), 1)\n",
    "            while text.find(top)!=-1 and was_replace[text.find(top)]==False:\n",
    "                was_replace[text.find(top)] = True\n",
    "                text = text.replace(top, code.top(), 1)\n",
    "            code.append(top1)\n",
    "            continue\n",
    "        code.pop()\n",
    "    \n",
    "    return text\n",
    "with open(\"2_res.txt\",\"w\", encoding=\"utf-8\") as file:\n",
    "    print(decryption(text))\n",
    "    file.write(text+'\\n')\n",
    "    file.write(decryption(text))"
   ]
  },
  {
   "cell_type": "markdown",
   "id": "c0894f47",
   "metadata": {},
   "source": [
    "### Задание №3\n",
    "Даны три стержня и n дисков различного размера. Диски можно надевать на стержни, образуя из них башни. Перенести n дисков со стержня А на стержень С, сохранив их первоначальный порядок. При переносе дисков необходимо соблюдать следующие правила:\n",
    "- на каждом шаге со стержня на стержень переносить только один диск;\n",
    "- диск нельзя помещать на диск меньшего размера;\n",
    "- для промежуточного хранения можно использовать стержень В.\n",
    "Реализовать алгоритм, используя три стека вместо стержней А, В, С. Информация о дисках хранится в исходном файле."
   ]
  },
  {
   "cell_type": "code",
   "execution_count": 5,
   "id": "9e91a9d4",
   "metadata": {},
   "outputs": [
    {
     "name": "stdout",
     "output_type": "stream",
     "text": [
      "1\n",
      "2\n",
      "3\n",
      "4\n",
      "5\n"
     ]
    }
   ],
   "source": [
    "A = stack()\n",
    "B = stack()\n",
    "C = stack()\n",
    "num: int = 0\n",
    "with open(\"3.txt\",\"r\", encoding=\"utf-8\") as file:\n",
    "    text = file.read()\n",
    "    for i in range(len(text)-1,-1,-2):\n",
    "        A.push(text[i])\n",
    "        num += 1\n",
    "        \n",
    "def ToH(num, A, B, C):\n",
    "    if num == 1:\n",
    "        B.push(A.top())\n",
    "        A.pop()\n",
    "        return \n",
    "    ToH(num-1, A, C, B)\n",
    "    B.push(A.top())\n",
    "    A.pop()\n",
    "    ToH(num-1, C, B, A)\n",
    "         \n",
    "ToH(num, A, C, B)\n",
    "with open(\"3_res.txt\",\"w\", encoding=\"utf-8\") as file:\n",
    "    while not C.empty():\n",
    "        print(C.top())\n",
    "        file.write(C.top()+'\\n')\n",
    "        C.pop()"
   ]
  },
  {
   "cell_type": "markdown",
   "id": "e5b0be17",
   "metadata": {},
   "source": [
    "### Задание №4\n",
    "Дан текстовый файл с программой на алгоритмическом языке. За один просмотр файла проверить баланс круглых скобок в тексте, используя стек."
   ]
  },
  {
   "cell_type": "code",
   "execution_count": 6,
   "id": "5b1df60a",
   "metadata": {},
   "outputs": [
    {
     "name": "stdout",
     "output_type": "stream",
     "text": [
      "True\n"
     ]
    }
   ],
   "source": [
    "def chech_parentheses(text:str):\n",
    "    stack_left_parenthesis = stack()\n",
    "    check: bool = False    \n",
    "    for i in range(len(text)):\n",
    "        if text[i] == '(':\n",
    "            stack_left_parenthesis.push('(')\n",
    "        elif text[i] == ')' and not stack_left_parenthesis.empty():\n",
    "            stack_left_parenthesis.pop()\n",
    "        elif text[i] == ')' and stack_left_parenthesis.empty():\n",
    "            return check\n",
    "        elif not stack_left_parenthesis.empty() and i==len(text)-1:\n",
    "            return check\n",
    "        i += 1\n",
    "    check = True\n",
    "    return check\n",
    "with open(\"4-5.txt\",\"r\", encoding=\"utf-8\") as file:\n",
    "    print(chech_parentheses(file.read()))"
   ]
  },
  {
   "cell_type": "markdown",
   "id": "c44cdd6b",
   "metadata": {},
   "source": [
    "### Задание №5\n",
    "Дан текстовый файл с программой на алгоритмическом языке. За один просмотр файла проверить баланс квадратных скобок в тексте, используя дек."
   ]
  },
  {
   "cell_type": "code",
   "execution_count": 7,
   "id": "36b8f400",
   "metadata": {},
   "outputs": [
    {
     "name": "stdout",
     "output_type": "stream",
     "text": [
      "True\n"
     ]
    }
   ],
   "source": [
    "def chech_square_brackets(text:str):\n",
    "    deque_of_brackets = deque()\n",
    "    check: bool = False\n",
    "    for i in range(len(text)):\n",
    "        if text[i] == '[':\n",
    "            deque_of_brackets.appendleft('[')\n",
    "        if text[i] == ']':\n",
    "            deque_of_brackets.append(']')\n",
    "    while not deque_of_brackets.empty():\n",
    "        if deque_of_brackets.top()==deque_of_brackets.topleft():\n",
    "            return check\n",
    "        deque_of_brackets.pop()\n",
    "        deque_of_brackets.popleft()\n",
    "    check = True\n",
    "    return check\n",
    "with open(\"4-5.txt\",\"r\", encoding=\"utf-8\") as file:\n",
    "    print(chech_square_brackets(file.read()))"
   ]
  },
  {
   "cell_type": "markdown",
   "id": "59d13dc7",
   "metadata": {},
   "source": [
    "### Задание №6\n",
    "Дан файл из символов. Используя стек, за один просмотр файла напечатать сначала все цифры, затем все буквы, и, наконец, все остальные символы, сохраняя исходный порядок в каждой группе символов."
   ]
  },
  {
   "cell_type": "code",
   "execution_count": 8,
   "id": "297e36c2",
   "metadata": {},
   "outputs": [
    {
     "name": "stdout",
     "output_type": "stream",
     "text": [
      "198282905приветмир-+=\")№"
     ]
    }
   ],
   "source": [
    "def check_symbols(text, stack_letters, stack_num, stack_others):\n",
    "    for i in range(len(text)-1, -1, -1):\n",
    "        if text[i]>='А' and text[i]<='я':\n",
    "            stack_letters.push(text[i])\n",
    "        elif text[i]>='0' and text[i]<='9':\n",
    "            stack_num.push(text[i])\n",
    "        else:\n",
    "            stack_others.push(text[i])\n",
    "def print_symbols(stack_letters, stack_num, stack_others):\n",
    "    with open(\"6_res.txt\",\"w\", encoding=\"utf-8\") as file1:\n",
    "        while not stack_num.empty():\n",
    "            print(stack_num.top(), end='')\n",
    "            file1.write(stack_num.top())\n",
    "            stack_num.pop()\n",
    "        while not stack_letters.empty():\n",
    "            print(stack_letters.top(), end='')\n",
    "            file1.write(stack_letters.top())\n",
    "            stack_letters.pop()\n",
    "        while not stack_others.empty():\n",
    "            print(stack_others.top(), end='')\n",
    "            file1.write(stack_others.top())\n",
    "            stack_others.pop()\n",
    "\n",
    "stack_letters = stack()\n",
    "stack_num = stack()\n",
    "stack_others = stack()\n",
    "\n",
    "with open(\"6.txt\",\"r\", encoding=\"utf-8\") as file:   \n",
    "    check_symbols(file.read(), stack_letters, stack_num, stack_others)\n",
    "    print_symbols(stack_letters, stack_num, stack_others)"
   ]
  },
  {
   "cell_type": "markdown",
   "id": "973f68bd",
   "metadata": {},
   "source": [
    "### Задание №7\n",
    "Дан файл из целых чисел. Используя дек, за один просмотр файла напечатать сначала все отрицательные числа, затем все положительные числа, сохраняя исходный порядок в каждой группе."
   ]
  },
  {
   "cell_type": "code",
   "execution_count": 9,
   "id": "c56fad66",
   "metadata": {},
   "outputs": [
    {
     "name": "stdout",
     "output_type": "stream",
     "text": [
      "-5 -3 -9 -69 7 3 9 25 782 6 "
     ]
    }
   ],
   "source": [
    "def sort_num(text: str):\n",
    "    num = deque()\n",
    "    i: int = 0\n",
    "    index: int\n",
    "    while i < len(text):\n",
    "        if text[i]=='-':\n",
    "            index = i\n",
    "            while i < len(text) and text[i] != ' ':\n",
    "                i += 1\n",
    "            num.append(int(text[index:i]))\n",
    "        elif text[i]>='0' and text[i]<='9':\n",
    "            index = i\n",
    "            while i < len(text) and text[i] != ' ':\n",
    "                i += 1  \n",
    "            num.appendleft(int(text[index:i]))\n",
    "        else:\n",
    "            i += 1\n",
    "    while num.topleft()>=0:\n",
    "        num.append(num.topleft())\n",
    "        num.popleft()\n",
    "    return num\n",
    "\n",
    "def print_num(num: deque()):\n",
    "    with open(\"7_res.txt\",\"w\", encoding=\"utf-8\") as file1:\n",
    "        while not num.empty():\n",
    "            if num.topleft()<0:\n",
    "                print(num.topleft(), end=' ')\n",
    "                file1.write(str(num.topleft())+' ')\n",
    "                num.popleft()\n",
    "            else:\n",
    "                print(num.top(), end=' ')\n",
    "                file1.write(str(num.top())+' ')\n",
    "                num.pop()\n",
    "with open(\"7.txt\",\"r\", encoding=\"utf-8\") as file:\n",
    "    num = sort_num(file.read())\n",
    "    print_num(num)"
   ]
  },
  {
   "cell_type": "markdown",
   "id": "b9228191",
   "metadata": {},
   "source": [
    "### Задание №8\n",
    "Дан текстовый файл. Используя стек, сформировать новый текстовый файл, содержащий строки исходного файла, записанные в обратном порядке: первая строка становится последней, вторая – предпоследней и т.д."
   ]
  },
  {
   "cell_type": "code",
   "execution_count": 10,
   "id": "981fbdfe",
   "metadata": {},
   "outputs": [],
   "source": [
    "task8 = stack()\n",
    "with open(\"8.txt\",\"r\", encoding=\"utf-8\") as file:\n",
    "    for line in file:\n",
    "        if line[-1] != '\\n':\n",
    "            line = line + '\\n'\n",
    "        task8.push(line)\n",
    "with open(\"8_res.txt\",\"w\", encoding=\"utf-8\") as file:\n",
    "    while not task8.empty():\n",
    "        file.write(task8.top())\n",
    "        task8.pop()"
   ]
  },
  {
   "cell_type": "markdown",
   "id": "rental-jerusalem",
   "metadata": {},
   "source": [
    "### Вывод\n"
   ]
  },
  {
   "cell_type": "markdown",
   "id": "0c2b8899",
   "metadata": {},
   "source": []
  }
 ],
 "metadata": {
  "kernelspec": {
   "display_name": "Python 3 (ipykernel)",
   "language": "python",
   "name": "python3"
  },
  "language_info": {
   "codemirror_mode": {
    "name": "ipython",
    "version": 3
   },
   "file_extension": ".py",
   "mimetype": "text/x-python",
   "name": "python",
   "nbconvert_exporter": "python",
   "pygments_lexer": "ipython3",
   "version": "3.10.2"
  }
 },
 "nbformat": 4,
 "nbformat_minor": 5
}

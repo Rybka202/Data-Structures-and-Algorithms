{
 "cells": [
  {
   "cell_type": "markdown",
   "metadata": {
    "id": "WPvB9TcMmKA6"
   },
   "source": [
    "# Лабораторная работа №5\n",
    "# Рекурсия. Фракталы."
   ]
  },
  {
   "cell_type": "markdown",
   "metadata": {
    "id": "96Gi_LEvmSVH"
   },
   "source": [
    "## Выполнил студент группы БФИ2001 Рыбка Семён Олегович\n",
    "***"
   ]
  },
  {
   "cell_type": "markdown",
   "metadata": {
    "id": "4clYOyb0mbEv"
   },
   "source": [
    "### Задание:\n",
    "Реализовать генерацию заданного типа фрактала с применением рекурсивных функций.\n",
    "\n",
    "\n",
    "Добавить возможность задания глубины фрактала. \n",
    "\n",
    "\n",
    "Оценить глубину рекурсии. \n",
    "\n",
    "\n",
    "Построить таблицу зависимости времени построения от глубины фрактала."
   ]
  },
  {
   "cell_type": "markdown",
   "metadata": {
    "id": "wDXHbUmMmhRL"
   },
   "source": [
    "### Список фракталов:\n",
    "\n",
    "Кривая Коха\n",
    "| Кривая Гильберта\n",
    "| Кривая Серпинского\n",
    "| Салфетка Серпинского\n",
    "| Ковер Серпинского\n",
    "| Дерево Пифагора "
   ]
  },
  {
   "cell_type": "markdown",
   "metadata": {
    "id": "Wggfn8l7nG72"
   },
   "source": [
    "### Выполнение:"
   ]
  },
  {
   "cell_type": "code",
   "execution_count": 3,
   "metadata": {},
   "outputs": [],
   "source": [
    "import turtle           \n",
    "import time\n",
    "import math"
   ]
  },
  {
   "cell_type": "code",
   "execution_count": 65,
   "metadata": {
    "id": "681a95mZnOSa"
   },
   "outputs": [
    {
     "name": "stdout",
     "output_type": "stream",
     "text": [
      "--- 2049 ms ---\n"
     ]
    }
   ],
   "source": [
    "# Кривая Коха\n",
    "def koch_line(size, depth):\n",
    "    if depth == 0:        \n",
    "        turtle.forward(size)\n",
    "        return\n",
    "    a = size/3                          \n",
    "    koch_line(a, depth-1)\n",
    "    turtle.left(60)\n",
    "    koch_line(a, depth-1)\n",
    "    turtle.right(120)\n",
    "    koch_line(a, depth-1)\n",
    "    turtle.left(60)\n",
    "    koch_line(a, depth-1)\n",
    "\n",
    "window = turtle.Screen()\n",
    "turtle.speed(0)\n",
    "start_time = time.time()\n",
    "koch_line(200, 3)\n",
    "print(\"--- {0} ms ---\".format(round((time.time() - start_time)*1000)))\n",
    "window.exitonclick() "
   ]
  },
  {
   "cell_type": "code",
   "execution_count": 67,
   "metadata": {},
   "outputs": [
    {
     "name": "stdout",
     "output_type": "stream",
     "text": [
      "--- 2347 ms ---\n"
     ]
    }
   ],
   "source": [
    "# Кривая Гильберта\n",
    "def hilbert_line(depth, angle, size):\n",
    "    if depth == 0:\n",
    "        return\n",
    "  \n",
    "    turtle.right(angle)\n",
    "    hilbert_line(depth-1, -angle, size)\n",
    "  \n",
    "    turtle.forward(size)\n",
    "    turtle.left(angle)\n",
    "    hilbert_line(depth-1, angle, size)\n",
    "  \n",
    "    turtle.forward(size)\n",
    "    hilbert_line(depth-1, angle, size)\n",
    "\n",
    "    turtle.left(angle)\n",
    "    turtle.forward(size)\n",
    "    hilbert_line(depth-1, -angle, size)\n",
    "    turtle.right(angle)\n",
    "\n",
    "\n",
    "\n",
    "depth = 3\n",
    "size = 200\n",
    "window = turtle.Screen()\n",
    "turtle.speed(0)\n",
    "start_time = time.time()\n",
    "hilbert_line(depth, 90, size/(2**depth-1))\n",
    "print(\"--- {0} ms ---\".format(round((time.time() - start_time)*1000)))\n",
    "window.exitonclick() "
   ]
  },
  {
   "cell_type": "code",
   "execution_count": 69,
   "metadata": {},
   "outputs": [
    {
     "name": "stdout",
     "output_type": "stream",
     "text": [
      "--- 137234 ms ---\n"
     ]
    }
   ],
   "source": [
    "# Ковёр Серпинского \n",
    "def sierpinski_carpet(depth, size):\n",
    "    if depth == 0:\n",
    "        turtle.color('black')\n",
    "        turtle.begin_fill()\n",
    "        for _ in range(4):\n",
    "            turtle.forward(size)\n",
    "            turtle.left(90)\n",
    "        turtle.end_fill()\n",
    " \n",
    "    else:\n",
    "        for _ in range(4):\n",
    "            sierpinski_carpet(depth - 1, size / 3)\n",
    "            turtle.forward(size / 3)\n",
    " \n",
    "            sierpinski_carpet(depth - 1, size / 3)\n",
    "            turtle.forward(size / 3)\n",
    " \n",
    "            turtle.forward(size / 3)\n",
    "            turtle.left(90)\n",
    "        \n",
    "    \n",
    "size = 200\n",
    "depth = 3\n",
    "window = turtle.Screen()\n",
    "turtle.speed(0)\n",
    "start_time = time.time()\n",
    "sierpinski_carpet(depth, size)\n",
    "print(\"--- {0} ms ---\".format(round((time.time() - start_time)*1000)))\n",
    "window.exitonclick() "
   ]
  },
  {
   "cell_type": "code",
   "execution_count": 74,
   "metadata": {},
   "outputs": [
    {
     "name": "stdout",
     "output_type": "stream",
     "text": [
      "--- 4211 ms ---\n"
     ]
    }
   ],
   "source": [
    "# Салфетка Серпинского\n",
    "def sierpinski_triangle(size,depth):\n",
    "    if depth==0:\n",
    "        for i in range(0,3):\n",
    "            turtle.fd(size)\n",
    "            turtle.left(120)\n",
    "    else:\n",
    "        sierpinski_triangle(size/2,depth-1)\n",
    "        turtle.fd(size/2)\n",
    "        sierpinski_triangle(size/2,depth-1)\n",
    "        turtle.bk(size/2)\n",
    "        turtle.left(60)\n",
    "        turtle.fd(size/2)\n",
    "        turtle.right(60)\n",
    "        sierpinski_triangle(size/2,depth-1)\n",
    "        turtle.left(60)\n",
    "        turtle.bk(size/2)\n",
    "        turtle.right(60)\n",
    "\n",
    "\n",
    "window = turtle.Screen()\n",
    "turtle.speed(0)\n",
    "start_time = time.time()\n",
    "sierpinski_triangle(200,3)\n",
    "print(\"--- {0} ms ---\".format(round((time.time() - start_time)*1000)))\n",
    "window.exitonclick()"
   ]
  },
  {
   "cell_type": "code",
   "execution_count": 76,
   "metadata": {},
   "outputs": [
    {
     "name": "stdout",
     "output_type": "stream",
     "text": [
      "--- 2540 ms ---\n"
     ]
    }
   ],
   "source": [
    "# дерево Пифагора\n",
    "def pifagor_tree(size, depth):\n",
    "    if depth == 0:\n",
    "        turtle.left(90)\n",
    "        for i in range(0,3):\n",
    "            turtle.forward(size*math.sqrt(2)/2)\n",
    "            turtle.right(90)\n",
    "        turtle.forward(size*math.sqrt(2)/2)\n",
    "    else:\n",
    "        turtle.left(90)\n",
    "        turtle.forward(size)\n",
    "        turtle.right(45)\n",
    "        if depth == 1:\n",
    "            pifagor_tree(size, depth-1)\n",
    "        else:\n",
    "            pifagor_tree(size*math.sqrt(2)/2, depth-1)\n",
    "        turtle.right(90)\n",
    "        turtle.right(135)\n",
    "        turtle.forward(size)\n",
    "        turtle.left(45)\n",
    "        if depth == 1:            \n",
    "            pifagor_tree(size, depth-1)\n",
    "            turtle.right(90)\n",
    "            turtle.right(225)\n",
    "        else:\n",
    "            turtle.left(90)\n",
    "            turtle.forward(size*math.sqrt(2)/2)\n",
    "            turtle.right(180)\n",
    "            pifagor_tree(size*math.sqrt(2)/2, depth-1)\n",
    "            turtle.right(180)\n",
    "            turtle.forward(size*math.sqrt(2)/2)\n",
    "            turtle.right(45)\n",
    "        turtle.forward(size)\n",
    "        turtle.right(90)\n",
    "        turtle.forward(size)\n",
    "\n",
    "window = turtle.Screen()\n",
    "turtle.speed(0)\n",
    "start_time = time.time()\n",
    "pifagor_tree(50,3)\n",
    "print(\"--- {0} ms ---\".format(round((time.time() - start_time)*1000)))\n",
    "window.exitonclick()"
   ]
  },
  {
   "cell_type": "code",
   "execution_count": 78,
   "metadata": {},
   "outputs": [
    {
     "name": "stdout",
     "output_type": "stream",
     "text": [
      "--- 8132 ms ---\n"
     ]
    }
   ],
   "source": [
    "# Кривая Серпинского\n",
    "def half_sierpinski(size, depth):\n",
    "    if depth == 0: \n",
    "        turtle.forward(size)\n",
    "        return\n",
    "    half_sierpinski(size, depth - 1)\n",
    "    turtle.left(45)\n",
    "    turtle.forward(size*math.sqrt(2)) \n",
    "    turtle.left(45)\n",
    "    half_sierpinski(size, depth - 1)\n",
    "    turtle.right(90)\n",
    "    turtle.forward(size)\n",
    "    turtle.right(90)\n",
    "    half_sierpinski(size, depth - 1)\n",
    "    turtle.left(45)\n",
    "    turtle.forward(size*math.sqrt(2)) \n",
    "    turtle.left(45)\n",
    "    half_sierpinski(size, depth - 1)\n",
    "\n",
    "def sierpinski_line(size, depth):\n",
    "    half_sierpinski(size, depth)\n",
    "    turtle.right(90)\n",
    "    turtle.forward(size)\n",
    "    turtle.right(90)\n",
    "    half_sierpinski(size, depth)\n",
    "    turtle.right(90)\n",
    "    turtle.forward(size)\n",
    "    turtle.right(90)\n",
    "        \n",
    "window = turtle.Screen()\n",
    "turtle.speed(0)\n",
    "start_time = time.time()\n",
    "sierpinski_line(5,3)\n",
    "print(\"--- {0} ms ---\".format(round((time.time() - start_time)*1000)))\n",
    "window.exitonclick()        "
   ]
  },
  {
   "cell_type": "markdown",
   "metadata": {
    "id": "diOb-K7LnO5a"
   },
   "source": [
    "### Вывод"
   ]
  },
  {
   "cell_type": "code",
   "execution_count": 2,
   "metadata": {},
   "outputs": [
    {
     "data": {
      "text/html": [
       "<div>\n",
       "<style scoped>\n",
       "    .dataframe tbody tr th:only-of-type {\n",
       "        vertical-align: middle;\n",
       "    }\n",
       "\n",
       "    .dataframe tbody tr th {\n",
       "        vertical-align: top;\n",
       "    }\n",
       "\n",
       "    .dataframe thead th {\n",
       "        text-align: right;\n",
       "    }\n",
       "</style>\n",
       "<table border=\"1\" class=\"dataframe\">\n",
       "  <thead>\n",
       "    <tr style=\"text-align: right;\">\n",
       "      <th></th>\n",
       "      <th>Название фрактала</th>\n",
       "      <th>глубина = 1 (ms)</th>\n",
       "      <th>глубина = 2 (ms)</th>\n",
       "      <th>глубина = 3 (s)</th>\n",
       "    </tr>\n",
       "  </thead>\n",
       "  <tbody>\n",
       "    <tr>\n",
       "      <th>0</th>\n",
       "      <td>Кривая Коха</td>\n",
       "      <td>112</td>\n",
       "      <td>477</td>\n",
       "      <td>2.04</td>\n",
       "    </tr>\n",
       "    <tr>\n",
       "      <th>1</th>\n",
       "      <td>Кривая Гильберта</td>\n",
       "      <td>107</td>\n",
       "      <td>554</td>\n",
       "      <td>2.34</td>\n",
       "    </tr>\n",
       "    <tr>\n",
       "      <th>2</th>\n",
       "      <td>Кривая Серпинского</td>\n",
       "      <td>496</td>\n",
       "      <td>2039</td>\n",
       "      <td>8.13</td>\n",
       "    </tr>\n",
       "    <tr>\n",
       "      <th>3</th>\n",
       "      <td>Салфетка Серпинского</td>\n",
       "      <td>405</td>\n",
       "      <td>1384</td>\n",
       "      <td>4.21</td>\n",
       "    </tr>\n",
       "    <tr>\n",
       "      <th>4</th>\n",
       "      <td>Ковёр Серпинского</td>\n",
       "      <td>1678</td>\n",
       "      <td>14672</td>\n",
       "      <td>137.23</td>\n",
       "    </tr>\n",
       "    <tr>\n",
       "      <th>5</th>\n",
       "      <td>Дерево Пифагора</td>\n",
       "      <td>434</td>\n",
       "      <td>1132</td>\n",
       "      <td>2.54</td>\n",
       "    </tr>\n",
       "  </tbody>\n",
       "</table>\n",
       "</div>"
      ],
      "text/plain": [
       "      Название фрактала  глубина = 1 (ms)  глубина = 2 (ms)  глубина = 3 (s)\n",
       "0           Кривая Коха               112               477             2.04\n",
       "1      Кривая Гильберта               107               554             2.34\n",
       "2    Кривая Серпинского               496              2039             8.13\n",
       "3  Салфетка Серпинского               405              1384             4.21\n",
       "4     Ковёр Серпинского              1678             14672           137.23\n",
       "5       Дерево Пифагора               434              1132             2.54"
      ]
     },
     "execution_count": 2,
     "metadata": {},
     "output_type": "execute_result"
    }
   ],
   "source": [
    "import pandas as pd\n",
    "tabledata = [[\"Кривая Коха\", 112, 477, 2.04],\n",
    "            [\"Кривая Гильберта\", 107, 554, 2.34],\n",
    "            [\"Кривая Серпинского\",  496, 2039, 8.13],\n",
    "            [\"Салфетка Серпинского\", 405, 1384, 4.21],\n",
    "            [\"Ковёр Серпинского\", 1678, 14672, 137.23],\n",
    "            [\"Дерево Пифагора\", 434, 1132, 2.54]]\n",
    "pd.DataFrame(tabledata, columns=[\"Название фрактала\",\"глубина = 1 (ms)\", \"глубина = 2 (ms)\", \"глубина = 3 (s)\"])"
   ]
  }
 ],
 "metadata": {
  "colab": {
   "collapsed_sections": [],
   "name": "Lab5.ipynb",
   "provenance": []
  },
  "kernelspec": {
   "display_name": "Python 3 (ipykernel)",
   "language": "python",
   "name": "python3"
  },
  "language_info": {
   "codemirror_mode": {
    "name": "ipython",
    "version": 3
   },
   "file_extension": ".py",
   "mimetype": "text/x-python",
   "name": "python",
   "nbconvert_exporter": "python",
   "pygments_lexer": "ipython3",
   "version": "3.10.2"
  }
 },
 "nbformat": 4,
 "nbformat_minor": 1
}

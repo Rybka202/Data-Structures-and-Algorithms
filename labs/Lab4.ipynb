{
 "cells": [
  {
   "cell_type": "markdown",
   "id": "fifteen-sailing",
   "metadata": {},
   "source": [
    "# Лабораторная работа №4\n",
    "## Выполнил студент группы БФИ2001 Рыбка Семён Олегович"
   ]
  },
  {
   "cell_type": "markdown",
   "id": "arctic-stocks",
   "metadata": {},
   "source": [
    "Реализовать следующие структуры данных:\n",
    "  \n",
    "● <b> Стек (stack): </b>  \n",
    "Операции для стека: \n",
    "<i> инициализация, проверка на пустоту, добавление нового элемента в начало, извлечение элемента из начала;  </i>  \n",
    "  \n",
    "● <b> Дек (двусторонняя очередь, deque):  </b>  \n",
    "Операции для дека: \n",
    "<i> инициализация, проверка на пустоту, добавление нового элемента в начало, добавление нового элемента в конец, извлечение элемента из начала, извлечение элемента из конца. </i>  \n",
    "  \n",
    "<i> Разработать программу обработки данных, содержащихся в заранее подготовленном txt-файле, в соответствии с заданиями, применив указанную в задании структуру данных. Результат работы программы вывести на экран и сохранить в отдельном txt-файле. </i>"
   ]
  },
  {
   "cell_type": "code",
   "execution_count": 1,
   "id": "cfc6be80",
   "metadata": {},
   "outputs": [],
   "source": [
    "class Stack:\n",
    "    def __init__(self):\n",
    "        self.stack = []\n",
    "        \n",
    "    def push(self, item):\n",
    "        self.stack.append(item)\n",
    "        \n",
    "    def top(self):\n",
    "        return self.stack[len(self.stack)-1]\n",
    "    \n",
    "    def empty(self):\n",
    "        if self.stack == []:\n",
    "            return True\n",
    "        else:\n",
    "            return False    \n",
    "    \n",
    "    def pop(self):\n",
    "        self.stack.pop()"
   ]
  },
  {
   "cell_type": "code",
   "execution_count": 2,
   "id": "ad0964ec",
   "metadata": {},
   "outputs": [],
   "source": [
    "import copy\n",
    "class Deque:\n",
    "    def __init__(self, mas = []):\n",
    "        self.deque = copy.deepcopy(mas)\n",
    "        \n",
    "    def append(self, item):\n",
    "        self.deque.append(item)\n",
    "    \n",
    "    def appendleft(self, item):\n",
    "        self.deque.insert(0, item)\n",
    "    \n",
    "    def top(self):\n",
    "        return self.deque[len(self.deque)-1]\n",
    "    \n",
    "    def topleft(self):\n",
    "        return self.deque[0]\n",
    "    \n",
    "    def empty(self):\n",
    "        if self.deque == []:\n",
    "            return True\n",
    "        else:\n",
    "            return False    \n",
    "    \n",
    "    def pop(self):\n",
    "        self.deque.pop()\n",
    "        \n",
    "    def popleft(self):\n",
    "        self.deque.pop(0)"
   ]
  },
  {
   "cell_type": "markdown",
   "id": "5d7edb08",
   "metadata": {
    "scrolled": true
   },
   "source": [
    "### Задание №1\n",
    "Отсортировать строки файла, содержащие названия книг, в алфавитном порядке с использованием двух деков."
   ]
  },
  {
   "cell_type": "code",
   "execution_count": 13,
   "id": "17702ade",
   "metadata": {},
   "outputs": [
    {
     "name": "stdout",
     "output_type": "stream",
     "text": [
      "Алиса в стране чудес\n",
      "Игра в классики\n",
      "Капитанская дочка\n",
      "Над пропостью во ржи\n",
      "Повелитель мух\n",
      "Превращение\n",
      "Преступление и наказание\n",
      "Сто лет одиночества\n",
      "Тарас Бульба\n",
      "Трудно быть богом\n"
     ]
    }
   ],
   "source": [
    "Deque1 = Deque()\n",
    "Deque2 = Deque()\n",
    "with open(\"C:\\\\Users\\\\lenovo\\\\OneDrive\\\\Рабочий стол\\\\СиАОД\\\\Lab4\\\\1.txt\",\"r\", encoding=\"utf-8\") as file:\n",
    "    for line in file:\n",
    "        line = line.replace('\\n','')\n",
    "        if Deque1.empty() or Deque1.top()<=line:\n",
    "            Deque1.append(line)\n",
    "        elif Deque1.topleft()>=line:\n",
    "            Deque1.appendleft(line)\n",
    "        elif Deque1.topleft()<line and Deque1.top()>line:\n",
    "            while Deque1.topleft()<line:\n",
    "                Deque2.append(Deque1.topleft())\n",
    "                Deque1.popleft()\n",
    "            Deque1.appendleft(line)\n",
    "            while not Deque2.empty():\n",
    "                Deque1.appendleft(Deque2.top())\n",
    "                Deque2.pop()\n",
    "\n",
    "with open(\"C:\\\\Users\\\\lenovo\\\\OneDrive\\\\Рабочий стол\\\\СиАОД\\\\Lab4\\\\1_res.txt\",\"w\", encoding=\"utf-8\") as file:\n",
    "    while not Deque1.empty():\n",
    "        print(Deque1.topleft())\n",
    "        file.write(Deque1.topleft()+'\\n')\n",
    "        Deque1.popleft()"
   ]
  },
  {
   "cell_type": "markdown",
   "id": "49fbd2a0",
   "metadata": {},
   "source": [
    "### Задание №2\n",
    "Дек содержит последовательность символов для шифровки сообщений. Дан текстовый файл, содержащий зашифрованное сообщение. Пользуясь деком, расшифровать текст. \n",
    "Известно, что при шифровке каждый символ сообщения заменялся следующим за ним в деке по часовой стрелке через один."
   ]
  },
  {
   "cell_type": "code",
   "execution_count": 14,
   "id": "81cab7a8",
   "metadata": {},
   "outputs": [
    {
     "name": "stdout",
     "output_type": "stream",
     "text": [
      "сткджфуфдкж\n",
      "приветствие\n"
     ]
    }
   ],
   "source": [
    "with open(\"C:\\\\Users\\\\lenovo\\\\OneDrive\\\\Рабочий стол\\\\СиАОД\\\\Lab4\\\\2.txt\",\"r\", encoding=\"utf-8\") as file:\n",
    "    text = file.read()\n",
    "print(text)\n",
    "def decryption(text):\n",
    "    Code = Deque(['а','б','в','г','д','е','ё','ж','з','и','й','к','л','м','н','о','п','р','с','т','у','ф','х','ц','ч','ш','щ'])\n",
    "    was_replace = [False]*len(text)\n",
    "    while not Code.empty():\n",
    "        top = Code.top()\n",
    "        if text.find(top)!=-1 and was_replace[text.find(top)]== False:\n",
    "            Code.pop()\n",
    "            top1 = Code.top()\n",
    "            Code.pop()\n",
    "            was_replace[text.find(top)] = True\n",
    "            text = text.replace(top, Code.top(), 1)\n",
    "            while text.find(top)!=-1 and was_replace[text.find(top)]==False:\n",
    "                was_replace[text.find(top)] = True\n",
    "                text = text.replace(top, Code.top(), 1)\n",
    "            Code.append(top1)\n",
    "            continue\n",
    "        Code.pop()\n",
    "    \n",
    "    return text\n",
    "with open(\"C:\\\\Users\\\\lenovo\\\\OneDrive\\\\Рабочий стол\\\\СиАОД\\\\Lab4\\\\2_res.txt\",\"w\", encoding=\"utf-8\") as file:\n",
    "    print(decryption(text))\n",
    "    file.write(text+'\\n')\n",
    "    file.write(decryption(text))"
   ]
  },
  {
   "cell_type": "markdown",
   "id": "c0894f47",
   "metadata": {},
   "source": [
    "### Задание №3\n",
    "Даны три стержня и n дисков различного размера. Диски можно надевать на стержни, образуя из них башни. Перенести n дисков со стержня А на стержень С, сохранив их первоначальный порядок. При переносе дисков необходимо соблюдать следующие правила:\n",
    "- на каждом шаге со стержня на стержень переносить только один диск;\n",
    "- диск нельзя помещать на диск меньшего размера;\n",
    "- для промежуточного хранения можно использовать стержень В.\n",
    "Реализовать алгоритм, используя три стека вместо стержней А, В, С. Информация о дисках хранится в исходном файле."
   ]
  },
  {
   "cell_type": "code",
   "execution_count": 5,
   "id": "9e91a9d4",
   "metadata": {},
   "outputs": [
    {
     "name": "stdout",
     "output_type": "stream",
     "text": [
      "1\n",
      "2\n",
      "3\n",
      "4\n",
      "5\n"
     ]
    }
   ],
   "source": [
    "A = Stack()\n",
    "B = Stack()\n",
    "C = Stack()\n",
    "num: int = 0\n",
    "with open(\"C:\\\\Users\\\\lenovo\\\\OneDrive\\\\Рабочий стол\\\\СиАОД\\\\Lab4\\\\3.txt\",\"r\", encoding=\"utf-8\") as file:\n",
    "    text = file.read()\n",
    "    for i in range(len(text)-1,-1,-2):\n",
    "        A.push(text[i])\n",
    "        num += 1\n",
    "        \n",
    "def ToH(num, A, B, C):\n",
    "    if num == 1:\n",
    "        B.push(A.top())\n",
    "        A.pop()\n",
    "        return \n",
    "    ToH(num-1, A, C, B)\n",
    "    B.push(A.top())\n",
    "    A.pop()\n",
    "    ToH(num-1, C, B, A)\n",
    "         \n",
    "ToH(num, A, C, B)\n",
    "with open(\"C:\\\\Users\\\\lenovo\\\\OneDrive\\\\Рабочий стол\\\\СиАОД\\\\Lab4\\\\3_res.txt\",\"w\", encoding=\"utf-8\") as file:\n",
    "    while not C.empty():\n",
    "        print(C.top())\n",
    "        file.write(C.top()+'\\n')\n",
    "        C.pop()"
   ]
  },
  {
   "cell_type": "markdown",
   "id": "e5b0be17",
   "metadata": {},
   "source": [
    "### Задание №4\n",
    "Дан текстовый файл с программой на алгоритмическом языке. За один просмотр файла проверить баланс круглых скобок в тексте, используя стек."
   ]
  },
  {
   "cell_type": "code",
   "execution_count": 15,
   "id": "5b1df60a",
   "metadata": {},
   "outputs": [
    {
     "name": "stdout",
     "output_type": "stream",
     "text": [
      "True\n"
     ]
    }
   ],
   "source": [
    "def chech_parentheses(text:str):\n",
    "    Stack_left_parenthesis = Stack()\n",
    "    check: bool = False    \n",
    "    for i in range(len(text)):\n",
    "        if text[i] == '(':\n",
    "            Stack_left_parenthesis.push('(')\n",
    "        elif text[i] == ')' and not Stack_left_parenthesis.empty():\n",
    "            Stack_left_parenthesis.pop()\n",
    "        elif text[i] == ')' and Stack_left_parenthesis.empty():\n",
    "            return check\n",
    "        elif not Stack_left_parenthesis.empty() and i==len(text)-1:\n",
    "            return check\n",
    "        i += 1\n",
    "    check = True\n",
    "    return check\n",
    "with open(\"C:\\\\Users\\\\lenovo\\\\OneDrive\\\\Рабочий стол\\\\СиАОД\\\\Lab4\\\\4-5.txt\",\"r\", encoding=\"utf-8\") as file:\n",
    "    print(chech_parentheses(file.read()))"
   ]
  },
  {
   "cell_type": "markdown",
   "id": "c44cdd6b",
   "metadata": {},
   "source": [
    "### Задание №5\n",
    "Дан текстовый файл с программой на алгоритмическом языке. За один просмотр файла проверить баланс квадратных скобок в тексте, используя дек."
   ]
  },
  {
   "cell_type": "code",
   "execution_count": 16,
   "id": "36b8f400",
   "metadata": {},
   "outputs": [
    {
     "name": "stdout",
     "output_type": "stream",
     "text": [
      "True\n"
     ]
    }
   ],
   "source": [
    "def chech_square_brackets(text:str):\n",
    "    Deque_of_brackets = Deque()\n",
    "    check: bool = False\n",
    "    for i in range(len(text)):\n",
    "        if text[i] == '[':\n",
    "            Deque_of_brackets.appendleft('[')\n",
    "        if text[i] == ']':\n",
    "            Deque_of_brackets.append(']')\n",
    "    while not Deque_of_brackets.empty():\n",
    "        if Deque_of_brackets.top()==Deque_of_brackets.topleft():\n",
    "            return check\n",
    "        Deque_of_brackets.pop()\n",
    "        Deque_of_brackets.popleft()\n",
    "    check = True\n",
    "    return check\n",
    "with open(\"C:\\\\Users\\\\lenovo\\\\OneDrive\\\\Рабочий стол\\\\СиАОД\\\\Lab4\\\\4-5.txt\",\"r\", encoding=\"utf-8\") as file:\n",
    "    print(chech_square_brackets(file.read()))"
   ]
  },
  {
   "cell_type": "markdown",
   "id": "59d13dc7",
   "metadata": {},
   "source": [
    "### Задание №6\n",
    "Дан файл из символов. Используя стек, за один просмотр файла напечатать сначала все цифры, затем все буквы, и, наконец, все остальные символы, сохраняя исходный порядок в каждой группе символов."
   ]
  },
  {
   "cell_type": "code",
   "execution_count": 18,
   "id": "297e36c2",
   "metadata": {},
   "outputs": [
    {
     "name": "stdout",
     "output_type": "stream",
     "text": [
      "198282905приветмир-+=\")№"
     ]
    }
   ],
   "source": [
    "def check_symbols(text, Stack_letters, Stack_num, Stack_others):\n",
    "    for i in range(len(text)-1, -1, -1):\n",
    "        if text[i]>='А' and text[i]<='я':\n",
    "            Stack_letters.push(text[i])\n",
    "        elif text[i]>='0' and text[i]<='9':\n",
    "            Stack_num.push(text[i])\n",
    "        else:\n",
    "            Stack_others.push(text[i])\n",
    "def print_symbols(Stack_letters, Stack_num, Stack_others):\n",
    "    with open(\"C:\\\\Users\\\\lenovo\\\\OneDrive\\\\Рабочий стол\\\\СиАОД\\\\Lab4\\\\6_res.txt\",\"w\", encoding=\"utf-8\") as file1:\n",
    "        while not Stack_num.empty():\n",
    "            print(Stack_num.top(), end='')\n",
    "            file1.write(Stack_num.top())\n",
    "            Stack_num.pop()\n",
    "        while not Stack_letters.empty():\n",
    "            print(Stack_letters.top(), end='')\n",
    "            file1.write(Stack_letters.top())\n",
    "            Stack_letters.pop()\n",
    "        while not Stack_others.empty():\n",
    "            print(Stack_others.top(), end='')\n",
    "            file1.write(Stack_others.top())\n",
    "            Stack_others.pop()\n",
    "\n",
    "Stack_letters = Stack()\n",
    "Stack_num = Stack()\n",
    "Stack_others = Stack()\n",
    "\n",
    "with open(\"C:\\\\Users\\\\lenovo\\\\OneDrive\\\\Рабочий стол\\\\СиАОД\\\\Lab4\\\\6.txt\",\"r\", encoding=\"utf-8\") as file:   \n",
    "    check_symbols(file.read(), Stack_letters, Stack_num, Stack_others)\n",
    "    print_symbols(Stack_letters, Stack_num, Stack_others)"
   ]
  },
  {
   "cell_type": "markdown",
   "id": "973f68bd",
   "metadata": {},
   "source": [
    "### Задание №7\n",
    "Дан файл из целых чисел. Используя дек, за один просмотр файла напечатать сначала все отрицательные числа, затем все положительные числа, сохраняя исходный порядок в каждой группе."
   ]
  },
  {
   "cell_type": "code",
   "execution_count": 19,
   "id": "c56fad66",
   "metadata": {},
   "outputs": [
    {
     "name": "stdout",
     "output_type": "stream",
     "text": [
      "-5 -3 -9 -69 7 3 9 25 782 6 "
     ]
    }
   ],
   "source": [
    "def sort_num(text: str):\n",
    "    Num = Deque()\n",
    "    i: int = 0\n",
    "    index: int\n",
    "    while i < len(text):\n",
    "        if text[i]=='-':\n",
    "            index = i\n",
    "            while i < len(text) and text[i] != ' ':\n",
    "                i += 1\n",
    "            Num.append(int(text[index:i]))\n",
    "        elif text[i]>='0' and text[i]<='9':\n",
    "            index = i\n",
    "            while i < len(text) and text[i] != ' ':\n",
    "                i += 1  \n",
    "            Num.appendleft(int(text[index:i]))\n",
    "        else:\n",
    "            i += 1\n",
    "    while Num.topleft()>=0:\n",
    "        Num.append(Num.topleft())\n",
    "        Num.popleft()\n",
    "    return Num\n",
    "\n",
    "def print_num(Num: Deque()):\n",
    "    with open(\"C:\\\\Users\\\\lenovo\\\\OneDrive\\\\Рабочий стол\\\\СиАОД\\\\Lab4\\\\7_res.txt\",\"w\", encoding=\"utf-8\") as file1:\n",
    "        while not Num.empty():\n",
    "            if Num.topleft()<0:\n",
    "                print(Num.topleft(), end=' ')\n",
    "                file1.write(str(Num.topleft())+' ')\n",
    "                Num.popleft()\n",
    "            else:\n",
    "                print(Num.top(), end=' ')\n",
    "                file1.write(str(Num.top())+' ')\n",
    "                Num.pop()\n",
    "with open(\"C:\\\\Users\\\\lenovo\\\\OneDrive\\\\Рабочий стол\\\\СиАОД\\\\Lab4\\\\7.txt\",\"r\", encoding=\"utf-8\") as file:\n",
    "    Num = sort_num(file.read())\n",
    "    print_num(Num)"
   ]
  },
  {
   "cell_type": "markdown",
   "id": "b9228191",
   "metadata": {},
   "source": [
    "### Задание №8\n",
    "Дан текстовый файл. Используя стек, сформировать новый текстовый файл, содержащий строки исходного файла, записанные в обратном порядке: первая строка становится последней, вторая – предпоследней и т.д."
   ]
  },
  {
   "cell_type": "code",
   "execution_count": 20,
   "id": "981fbdfe",
   "metadata": {},
   "outputs": [],
   "source": [
    "Task8 = Stack()\n",
    "with open(\"C:\\\\Users\\\\lenovo\\\\OneDrive\\\\Рабочий стол\\\\СиАОД\\\\Lab4\\\\8.txt\",\"r\", encoding=\"utf-8\") as file:\n",
    "    for line in file:\n",
    "        if line[-1] != '\\n':\n",
    "            line = line + '\\n'\n",
    "        Task8.push(line)\n",
    "with open(\"C:\\\\Users\\\\lenovo\\\\OneDrive\\\\Рабочий стол\\\\СиАОД\\\\Lab4\\\\8_res.txt\",\"w\", encoding=\"utf-8\") as file:\n",
    "    while not Task8.empty():\n",
    "        file.write(Task8.top())\n",
    "        Task8.pop()"
   ]
  },
  {
   "cell_type": "markdown",
   "id": "rental-jerusalem",
   "metadata": {},
   "source": [
    "### Вывод\n"
   ]
  },
  {
   "cell_type": "markdown",
   "id": "0c2b8899",
   "metadata": {},
   "source": []
  }
 ],
 "metadata": {
  "kernelspec": {
   "display_name": "Python 3 (ipykernel)",
   "language": "python",
   "name": "python3"
  },
  "language_info": {
   "codemirror_mode": {
    "name": "ipython",
    "version": 3
   },
   "file_extension": ".py",
   "mimetype": "text/x-python",
   "name": "python",
   "nbconvert_exporter": "python",
   "pygments_lexer": "ipython3",
   "version": "3.10.2"
  }
 },
 "nbformat": 4,
 "nbformat_minor": 5
}

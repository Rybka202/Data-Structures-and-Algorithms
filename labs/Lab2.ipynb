{
 "cells": [
  {
   "cell_type": "markdown",
   "id": "fifteen-sailing",
   "metadata": {},
   "source": [
    "# Лабораторная работа №2\n",
    "## Выполнил студент группы ГРУППЫ БФИ2001 Рыбка Семён Олегович"
   ]
  },
  {
   "cell_type": "markdown",
   "id": "particular-syndicate",
   "metadata": {},
   "source": [
    "### Оглавление\n",
    "1. [Задание 1](#Задание-№1)\n",
    "2. [Задание 2](#Задание-№2)\n",
    "3. [Задание 3](#Задание-№3)"
   ]
  },
  {
   "cell_type": "markdown",
   "id": "arctic-stocks",
   "metadata": {},
   "source": [
    "### Задание №1\n",
    "Реализовать методы поиска в соответствии с заданием. Организовать генерацию начального набора случайных данных. Для всех вариантов добавить реализацию добавления, поиска и удаления элементов. Оценить время работы каждого алгоритма поиска и сравнить его со временем работы стандартной функции поиска, используемой в выбранном языке программирования."
   ]
  },
  {
   "cell_type": "code",
   "execution_count": 1,
   "id": "d5b2005c",
   "metadata": {},
   "outputs": [],
   "source": [
    "import random\n",
    "\n",
    "def insert_elem(arr: list[int], val: int, index: int = -1):\n",
    "    if index != -1:\n",
    "        arr.insert(index, val)\n",
    "        return arr\n",
    "    else:\n",
    "        arr.append(val)\n",
    "        return arr\n",
    "\n",
    "def delete_elem(arr: list[int], index: int):\n",
    "    arr.pop(index)\n",
    "    return arr\n",
    "\n",
    "def generator_arr(n: int):\n",
    "    arr: list[int] = [random.randint(-50,500) for i in range(2500)]\n",
    "    #arr.sort()\n",
    "    return arr\n",
    "\n",
    "arr = generator_arr(10)"
   ]
  },
  {
   "cell_type": "code",
   "execution_count": 2,
   "id": "caring-truck",
   "metadata": {
    "scrolled": true
   },
   "outputs": [],
   "source": [
    "#Бинарный поиск\n",
    "import copy\n",
    "import time\n",
    "\n",
    "def BinarySearch(arr, val):\n",
    "    first = 0\n",
    "    last = len(arr)-1\n",
    "    index = -1\n",
    "    while (first <= last) and (index == -1):\n",
    "        mid = (first+last)//2\n",
    "        if arr[mid] == val:\n",
    "            index = mid\n",
    "        elif val<arr[mid]:\n",
    "            last = mid -1\n",
    "        else:\n",
    "            first = mid +1\n",
    "    \n",
    "    return index"
   ]
  },
  {
   "cell_type": "code",
   "execution_count": 3,
   "id": "c1073692",
   "metadata": {},
   "outputs": [
    {
     "name": "stdout",
     "output_type": "stream",
     "text": [
      "--- 3 ms ---\n"
     ]
    }
   ],
   "source": [
    "start_time = time.time()\n",
    "arr1 = copy.deepcopy(arr)\n",
    "arr1.sort()\n",
    "index = BinarySearch(arr1, 5)\n",
    "insert_elem(arr1, 9, index)\n",
    "delete_elem(arr1, index)\n",
    "print(\"--- {0} ms ---\".format(round((time.time() - start_time)*1000)))"
   ]
  },
  {
   "cell_type": "code",
   "execution_count": 4,
   "id": "75af3ea8",
   "metadata": {},
   "outputs": [],
   "source": [
    "#Бинарное дерево\n",
    "class Node:\n",
    "    def __init__(self, key):\n",
    "        self.key = key\n",
    "        self.left = None\n",
    "        self.right = None\n",
    "\n",
    "def insert(node, key):\n",
    "    if node is None:\n",
    "        return Node(key)\n",
    "    if key < node.key:\n",
    "        node.left = insert(node.left, key)\n",
    "    else:\n",
    "        node.right = insert(node.right, key)\n",
    "    return node\n",
    "\n",
    "def minValueNode(node):\n",
    "    current = node\n",
    "    while(current.left is not None):\n",
    "        current = current.left\n",
    "    return current\n",
    "\n",
    "def deleteNode(root, key):\n",
    "    if root is None:\n",
    "        return root\n",
    "    if key < root.key:\n",
    "        root.left = deleteNode(root.left, key)\n",
    "    elif(key > root.key):\n",
    "        root.right = deleteNode(root.right, key)\n",
    "    else:      \n",
    "        if root.left is None:\n",
    "            temp = root.right\n",
    "            root = None\n",
    "            return temp\n",
    "        elif root.right is None:\n",
    "            temp = root.left\n",
    "            root = None\n",
    "            return temp\n",
    "        temp = minValueNode(root.right)\n",
    "        root.key = temp.key\n",
    "        root.right = deleteNode(root.right, temp.key)\n",
    "    return root\n",
    "\n",
    "\n",
    "def arr_insert(arr: list[int]):\n",
    "    root = None\n",
    "    for i in range(len(arr2)):\n",
    "        root = insert(root, arr2[i])\n",
    "    return root"
   ]
  },
  {
   "cell_type": "code",
   "execution_count": 5,
   "id": "991f0916",
   "metadata": {},
   "outputs": [
    {
     "name": "stdout",
     "output_type": "stream",
     "text": [
      "\n",
      "--- 17 ms ---\n"
     ]
    }
   ],
   "source": [
    "start_time = time.time()\n",
    "arr2 = copy.deepcopy(arr)\n",
    "root = arr_insert(arr2)\n",
    "insert(root, 9)\n",
    "root = deleteNode(root, 9)\n",
    "print(\"\\n--- {0} ms ---\".format(round((time.time() - start_time)*1000)))"
   ]
  },
  {
   "cell_type": "code",
   "execution_count": 6,
   "id": "abe4b0b4",
   "metadata": {},
   "outputs": [],
   "source": [
    "#Метод Фибоначчи\n",
    "def FibonacciSearch(arr, val):\n",
    "    fibM_minus_2 = 0\n",
    "    fibM_minus_1 = 1\n",
    "    fibM = fibM_minus_1 + fibM_minus_2\n",
    "    while (fibM < len(arr)):\n",
    "        fibM_minus_2 = fibM_minus_1\n",
    "        fibM_minus_1 = fibM\n",
    "        fibM = fibM_minus_1 + fibM_minus_2\n",
    "    index = -1;\n",
    "    while (fibM > 1):\n",
    "        i = min(index + fibM_minus_2, (len(arr)-1))\n",
    "        if (arr[i] < val):\n",
    "            fibM = fibM_minus_1\n",
    "            fibM_minus_1 = fibM_minus_2\n",
    "            fibM_minus_2 = fibM - fibM_minus_1\n",
    "            index = i\n",
    "        elif (arr[i] > val):\n",
    "            fibM = fibM_minus_2\n",
    "            fibM_minus_1 = fibM_minus_1 - fibM_minus_2\n",
    "            fibM_minus_2 = fibM - fibM_minus_1\n",
    "        else :\n",
    "            return i\n",
    "    if(fibM_minus_1 and index < (len(arr)-1) and arr[index+1] == val):\n",
    "        return index+1;\n",
    "    return -1"
   ]
  },
  {
   "cell_type": "code",
   "execution_count": 7,
   "id": "b7b85248",
   "metadata": {},
   "outputs": [
    {
     "name": "stdout",
     "output_type": "stream",
     "text": [
      "--- 2 ms ---\n"
     ]
    }
   ],
   "source": [
    "start_time = time.time()\n",
    "arr3 = copy.deepcopy(arr)\n",
    "index = FibonacciSearch(arr3, 5)\n",
    "insert_elem(arr3, 9, index)\n",
    "delete_elem(arr3, index)\n",
    "print(\"--- {0} ms ---\".format(round((time.time() - start_time)*1000)))"
   ]
  },
  {
   "cell_type": "code",
   "execution_count": 8,
   "id": "34ec2894",
   "metadata": {},
   "outputs": [],
   "source": [
    "#Интерполяционный\n",
    "def InterpolationSearch(arr, val):\n",
    "    low = 0\n",
    "    high = (len(arr) - 1)\n",
    "    while low <= high and val >= arr[low] and val <= arr[high]:\n",
    "        index = low + int(((float(high - low) / ( arr[high] - arr[low])) * ( val - arr[low])))\n",
    "        if arr[index] == val:\n",
    "            return index\n",
    "        if arr[index] < val:\n",
    "            low = index + 1;\n",
    "        else:\n",
    "            high = index - 1;\n",
    "    return -1"
   ]
  },
  {
   "cell_type": "code",
   "execution_count": 9,
   "id": "22e9e089",
   "metadata": {},
   "outputs": [
    {
     "name": "stdout",
     "output_type": "stream",
     "text": [
      "--- 2 ms ---\n"
     ]
    }
   ],
   "source": [
    "start_time = time.time()\n",
    "arr4 = copy.deepcopy(arr)\n",
    "index = InterpolationSearch(arr4, 5)\n",
    "insert_elem(arr4, 9, index)\n",
    "delete_elem(arr4, index)\n",
    "print(\"--- {0} ms ---\".format(round((time.time() - start_time)*1000)))"
   ]
  },
  {
   "cell_type": "code",
   "execution_count": 10,
   "id": "c98905c4",
   "metadata": {},
   "outputs": [
    {
     "name": "stdout",
     "output_type": "stream",
     "text": [
      "--- 3 ms ---\n"
     ]
    }
   ],
   "source": [
    "start_time = time.time()\n",
    "arr5 = copy.deepcopy(arr)\n",
    "index = arr5.index(5)\n",
    "insert_elem(arr5, 9, index)\n",
    "delete_elem(arr5, index)\n",
    "print(\"--- {0} ms ---\".format(round((time.time() - start_time)*1000)))"
   ]
  },
  {
   "cell_type": "markdown",
   "id": "maritime-conversation",
   "metadata": {},
   "source": [
    "### Задание №2\n",
    "Написать соответствующие решения для заданных методов."
   ]
  },
  {
   "cell_type": "code",
   "execution_count": 11,
   "id": "97f9de37",
   "metadata": {},
   "outputs": [
    {
     "name": "stdout",
     "output_type": "stream",
     "text": [
      "[9, 1, 2, 3, 4, 5, 6]\n"
     ]
    }
   ],
   "source": [
    "#Простое рехэширование\n",
    "def hash_func(hashTable: list[int], key: int, leng: int):\n",
    "    index = key % leng\n",
    "    if hashTable[index] == None:\n",
    "        hashTable[index] = key\n",
    "    else:\n",
    "        index = 0\n",
    "        while hashTable[index] != None and index<leng:\n",
    "            index += 1\n",
    "        hashTable[index] = key\n",
    "    return hashTable\n",
    " \n",
    "def rehash(keyList: list[int]):\n",
    "    hashTable: list[int] = [None]*len(keyList)\n",
    "    for i in range(len(keyList)):\n",
    "        hash_func(hashTable, keyList[i], len(keyList))\n",
    "    print(hashTable)\n",
    "    \n",
    "arr = [1,2,9,3,4,5,6]\n",
    "rehash(arr)"
   ]
  },
  {
   "cell_type": "code",
   "execution_count": 12,
   "id": "b4b80e3a",
   "metadata": {},
   "outputs": [
    {
     "name": "stdout",
     "output_type": "stream",
     "text": [
      "[5, 1, 2, 3, 4, 9, 6]\n"
     ]
    }
   ],
   "source": [
    "#Рехэширование с помощью псевдослучайных чисел\n",
    "def hash_func2(hashTable: list[int], key: int, leng: int):\n",
    "    index = key % leng\n",
    "    if hashTable[index] == None:\n",
    "        hashTable[index] = key\n",
    "    else:\n",
    "        while hashTable[index] != None:\n",
    "            index = 0\n",
    "            index += random.randint(0,leng-1)\n",
    "        hashTable[index] = key\n",
    "    return hashTable\n",
    " \n",
    "def rehash_by_random(keyList: list[int]):\n",
    "    hashTable: list[int] = [None]*len(keyList)\n",
    "    for i in range(len(keyList)):\n",
    "        hash_func2(hashTable, keyList[i], len(keyList))\n",
    "    print(hashTable)\n",
    "    \n",
    "arr = [1,2,3,9,4,5,6]\n",
    "rehash_by_random(arr)"
   ]
  },
  {
   "cell_type": "code",
   "execution_count": 13,
   "id": "1addc092",
   "metadata": {},
   "outputs": [
    {
     "name": "stdout",
     "output_type": "stream",
     "text": [
      "[None, 1, [2, 9], 3, 4, 5, 6]\n"
     ]
    }
   ],
   "source": [
    "#Метод цепочек\n",
    "def hash_func3(hashTable: list[int], key: int, leng: int):\n",
    "    index = key % leng\n",
    "    if hashTable[index] == None:\n",
    "        hashTable[index] = key\n",
    "    else:\n",
    "        if hashTable[index] is not list:\n",
    "            temp = hashTable[index]\n",
    "            hashTable[index] = []\n",
    "            hashTable[index].append(temp)\n",
    "            hashTable[index].append(key)\n",
    "        else:\n",
    "            hashTable[index].append(key)\n",
    "    \n",
    "    return hashTable\n",
    " \n",
    "def chain_method(keyList: list[int]):\n",
    "    hashTable: list[int] = [None]*len(keyList)\n",
    "    for i in range(len(keyList)):\n",
    "        hash_func3(hashTable, keyList[i], len(keyList))\n",
    "    print(hashTable)\n",
    "    \n",
    "arr = [1,2,3,4,5,6,9]\n",
    "chain_method(arr)"
   ]
  },
  {
   "cell_type": "markdown",
   "id": "catholic-roots",
   "metadata": {},
   "source": [
    "### Задание №3\n",
    "Расставить на стандартной 64-клеточной шахматной доске 8 ферзей так, чтобы ни один из них не находился под боем другого». Подразумевается, что ферзь бьёт все клетки, расположенные по вертикалям, горизонталям и обеим диагоналям\n",
    "Написать программу,  которая находит хотя бы один способ решения задач.\n"
   ]
  },
  {
   "cell_type": "code",
   "execution_count": 14,
   "id": "09de30c9",
   "metadata": {},
   "outputs": [
    {
     "name": "stdout",
     "output_type": "stream",
     "text": [
      ". X . . . . . . \n",
      ". . . X . . . . \n",
      ". . . . . X . . \n",
      ". . . . . . . X \n",
      ". . X . . . . . \n",
      "X . . . . . . . \n",
      ". . . . . . X . \n",
      ". . . . X . . . \n"
     ]
    }
   ],
   "source": [
    "import random\n",
    "\n",
    "def conflict(state,col):\n",
    "    row=len(state)\n",
    "    for i in range(row):\n",
    "        if abs (state[i] - col) in (0, row-i): \n",
    "            return True\n",
    "    return False\n",
    "    \n",
    "def queens(num=8,state=()):\n",
    "    for pos in range(num):\n",
    "        if not conflict(state, pos):\n",
    "            if len(state)==num-1:\n",
    "                yield(pos,)\n",
    "            else:\n",
    "                for result in queens(num, state+(pos,)):\n",
    "                    yield (pos,)+result\n",
    "def queenprint(solution):\n",
    "    def line(pos,length=len(solution)):\n",
    "        return '. '*(pos)+'X '+'. '*(length-pos-1)\n",
    "    for pos in solution:\n",
    "        print(line(pos))\n",
    "    \n",
    "queenprint(random.choice(list(queens())))"
   ]
  }
 ],
 "metadata": {
  "kernelspec": {
   "display_name": "Python 3 (ipykernel)",
   "language": "python",
   "name": "python3"
  },
  "language_info": {
   "codemirror_mode": {
    "name": "ipython",
    "version": 3
   },
   "file_extension": ".py",
   "mimetype": "text/x-python",
   "name": "python",
   "nbconvert_exporter": "python",
   "pygments_lexer": "ipython3",
   "version": "3.10.2"
  }
 },
 "nbformat": 4,
 "nbformat_minor": 5
}

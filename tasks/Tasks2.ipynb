{
 "cells": [
  {
   "cell_type": "markdown",
   "id": "arctic-stocks",
   "metadata": {},
   "source": [
    "### Задание №1\n",
    "Массив A состоит из целых положительных чисел длин отрезков. Составьте из трех отрезков такой треугольник, чтобы его периметр был максимально возможным. Если невозможно составить треугольник с положительной площадью функция возвращает 0."
   ]
  },
  {
   "cell_type": "code",
   "execution_count": 1,
   "id": "caring-truck",
   "metadata": {
    "scrolled": false
   },
   "outputs": [
    {
     "name": "stdout",
     "output_type": "stream",
     "text": [
      "[11, 8, 21, 24, 14, 13, 40, 17, 40, 36, 11, 13, 16, 28, 12, 23, 36, 22, 26, 10]\n",
      "Периметр = 116\n"
     ]
    }
   ],
   "source": [
    "import random\n",
    "def max_triangle(arr: list[int]):\n",
    "    arr = sorted(arr)\n",
    "    a: int = 0\n",
    "    b: int = 0\n",
    "    c: int = 0\n",
    "    for i in range (len(arr)-1,-1,-1):\n",
    "        if arr[i]<arr[i-1]+arr[i-2] and arr[i]+arr[i-1]+arr[i-2]>a+b+c:\n",
    "            c = arr[i]\n",
    "            b = arr[i-1]\n",
    "            a = arr[i-2]\n",
    "    if a+b+c == 0:\n",
    "        return 0\n",
    "    else:\n",
    "        return a+b+c\n",
    "\n",
    "arr: list[int] = [random.randint(1,50) for i in range(20)]\n",
    "print(arr)\n",
    "print(\"Периметр =\", max_triangle(arr))"
   ]
  },
  {
   "cell_type": "markdown",
   "id": "maritime-conversation",
   "metadata": {},
   "source": [
    "### Задание №2\n",
    "Дан массив неотрицательных целых чисел nums. Расположите их в таком порядке, чтобы вместе они образовали максимально возможное число. Замечание: Результат может быть очень большим числом, поэтому представьте его как string, а не integer."
   ]
  },
  {
   "cell_type": "code",
   "execution_count": 2,
   "id": "alert-charm",
   "metadata": {
    "scrolled": false
   },
   "outputs": [
    {
     "name": "stdout",
     "output_type": "stream",
     "text": [
      "[55, 56, 3, 10, 79, 6, 52, 33, 51, 51]\n",
      "BigInteger = 796565551515233310\n"
     ]
    }
   ],
   "source": [
    "def max_num(nums: list[int]):\n",
    "    bigInt: list[str] = [str(x) for x in nums]\n",
    "    bigInt = sorted(bigInt)\n",
    "    for i in range(1, len(bigInt)):\n",
    "        temp = bigInt[i]\n",
    "        j = i - 1\n",
    "        temp2 = bigInt[j]\n",
    "        while ((j >= 0 and temp[0] < temp2[0]) or (j >= 0 and temp[0] <= temp2[0] and len(temp)==2 and temp[1] < temp2[0])):\n",
    "            del bigInt[j+1]\n",
    "            bigInt.insert(j+1, bigInt[j])\n",
    "            j = j - 1\n",
    "            temp2 = bigInt[j]\n",
    "        bigInt[j + 1] = temp\n",
    "    bigInt.reverse()\n",
    "    return ''.join(bigInt)\n",
    "            \n",
    "\n",
    "nums: list[int] = [random.randint(1,80) for i in range(10)]\n",
    "print(nums)\n",
    "print(\"BigInteger =\", max_num(nums))"
   ]
  },
  {
   "cell_type": "markdown",
   "id": "catholic-roots",
   "metadata": {},
   "source": [
    "### Задание №3\n",
    "Дана матрица mat размером m * n, значения целочисленные. Напишите функцию, сортирующую каждую диагональ матрицы по возрастанию и возвращающую получившуюся матрицу."
   ]
  },
  {
   "cell_type": "code",
   "execution_count": 3,
   "id": "cleared-anniversary",
   "metadata": {
    "scrolled": false
   },
   "outputs": [
    {
     "name": "stdout",
     "output_type": "stream",
     "text": [
      "[71, 10, 80, 82]\n",
      "[61, 39, 14, 77]\n",
      "[97, 37, 41, 34]\n",
      "[83, 53, 96, 46]\n",
      "[11, 28, 47, 51]\n",
      "\n"
     ]
    },
    {
     "data": {
      "text/plain": [
       "[[39, 10, 77, 82],\n",
       " [37, 41, 14, 80],\n",
       " [47, 51, 46, 34],\n",
       " [28, 53, 61, 71],\n",
       " [11, 83, 97, 96]]"
      ]
     },
     "execution_count": 3,
     "metadata": {},
     "output_type": "execute_result"
    }
   ],
   "source": [
    "def sort_diagonal(mat: list[list[int]], n: int, m: int):\n",
    "    len_str = m\n",
    "    start_n = 0\n",
    "    i = 0\n",
    "    j = len_str-2\n",
    "    while j>=0 and i<=n-2:\n",
    "        arr = []\n",
    "        while i<=n-1 and j<=m-1:\n",
    "            arr.append(mat[i][j])\n",
    "            i+=1\n",
    "            j+=1\n",
    "        arr.sort()\n",
    "        if len_str > 2:\n",
    "            i = 0\n",
    "            j = len_str-2\n",
    "        else:\n",
    "            i = start_n\n",
    "            j = 0\n",
    "        index = 0\n",
    "        while i<=n-1 and j<=m-1:\n",
    "            mat[i][j] = arr[index]\n",
    "            i+=1\n",
    "            j+=1\n",
    "            index+=1\n",
    "        len_str-=1\n",
    "        if len_str > 1:\n",
    "            i = 0\n",
    "            j = len_str-2\n",
    "        else:\n",
    "            start_n += 1\n",
    "            i = start_n\n",
    "            j = 0\n",
    "    return mat\n",
    "    \n",
    "\n",
    "mat: list[list[int]] = [[random.randint(10, 99) for j in range(4)] for i in range(5)]\n",
    "for i in mat:\n",
    "    print(i)\n",
    "\n",
    "print('')\n",
    "sort_diagonal(mat,5,4)"
   ]
  }
 ],
 "metadata": {
  "kernelspec": {
   "display_name": "Python 3 (ipykernel)",
   "language": "python",
   "name": "python3"
  },
  "language_info": {
   "codemirror_mode": {
    "name": "ipython",
    "version": 3
   },
   "file_extension": ".py",
   "mimetype": "text/x-python",
   "name": "python",
   "nbconvert_exporter": "python",
   "pygments_lexer": "ipython3",
   "version": "3.10.2"
  }
 },
 "nbformat": 4,
 "nbformat_minor": 5
}

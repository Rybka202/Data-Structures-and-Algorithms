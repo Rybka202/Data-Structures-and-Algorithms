{
 "cells": [
  {
   "cell_type": "markdown",
   "id": "244314fb",
   "metadata": {},
   "source": [
    "# Задание 1"
   ]
  },
  {
   "cell_type": "markdown",
   "id": "64630386",
   "metadata": {},
   "source": [
    "Даны две строки: `s1` и `s2` с одинаковым размером.\n",
    "\n",
    "Проверьте, может ли некоторая перестановка строки `s1` “победить” некоторую перестановку строки `s2` или наоборот.\n",
    "\n",
    "Строка x может “победить” строку y (обе имеют размер n), если `x[i] >= y[i]` (в алфавитном порядке) для всех i от 0 до n-1.\n"
   ]
  },
  {
   "cell_type": "markdown",
   "id": "cf51dab2",
   "metadata": {},
   "source": [
    "## Ввод"
   ]
  },
  {
   "cell_type": "markdown",
   "id": "d697a747",
   "metadata": {},
   "source": [
    "`abc`\n",
    "`xya`"
   ]
  },
  {
   "cell_type": "markdown",
   "id": "50b10a2e",
   "metadata": {},
   "source": [
    "## Вывод"
   ]
  },
  {
   "cell_type": "markdown",
   "id": "55442a49",
   "metadata": {},
   "source": [
    "`True`\n",
    "\n",
    "### Исполняемый код записать в ячейку ниже:"
   ]
  },
  {
   "cell_type": "code",
   "execution_count": 12,
   "id": "3b0d440a",
   "metadata": {},
   "outputs": [
    {
     "data": {
      "text/plain": [
       "True"
      ]
     },
     "execution_count": 12,
     "metadata": {},
     "output_type": "execute_result"
    }
   ],
   "source": [
    "def check_str(str1: str, str2: str):\n",
    "    str1 = sorted(str1)\n",
    "    str2 = sorted(str2)\n",
    "    winStr1: bool = False\n",
    "    winStr2: bool = False\n",
    "    for i in range(0, len(str1)):\n",
    "        if str1[i]>str2[i]:\n",
    "            winStr1 = True\n",
    "        elif str1[i]<str2[i]:\n",
    "            winStr2 = True\n",
    "            \n",
    "    if winStr1 == True and winStr2 == False:\n",
    "        return True\n",
    "    elif winStr2 == True and winStr1 == False:\n",
    "        return True\n",
    "    elif winStr2 == True and winStr1 == True:\n",
    "        return False\n",
    "    elif winStr2 == False and winStr1 == False:\n",
    "        return True\n",
    "\n",
    "\n",
    "str1 = \"abc\"\n",
    "str2 = \"xya\"\n",
    "check_str(str1, str2)\n",
    "            \n",
    "            "
   ]
  },
  {
   "cell_type": "markdown",
   "id": "b3a969a6",
   "metadata": {},
   "source": [
    "# Задание 2"
   ]
  },
  {
   "cell_type": "markdown",
   "id": "9c1ce05d",
   "metadata": {},
   "source": [
    "Дана строка `s`, вернуть самую длинную полиндромную подстроку в `s`."
   ]
  },
  {
   "cell_type": "markdown",
   "id": "20415c0e",
   "metadata": {},
   "source": [
    "## Ввод"
   ]
  },
  {
   "cell_type": "markdown",
   "id": "e77fcb44",
   "metadata": {},
   "source": [
    "`babad`"
   ]
  },
  {
   "cell_type": "markdown",
   "id": "49996449",
   "metadata": {},
   "source": [
    "## Вывод"
   ]
  },
  {
   "cell_type": "markdown",
   "id": "75be2464",
   "metadata": {},
   "source": [
    "`aba` или `bab`"
   ]
  },
  {
   "cell_type": "markdown",
   "id": "12ef9771",
   "metadata": {},
   "source": [
    "## Исполняемый код записывать в ячейку ниже"
   ]
  },
  {
   "cell_type": "code",
   "execution_count": 6,
   "id": "3f06c4fc",
   "metadata": {},
   "outputs": [
    {
     "data": {
      "text/plain": [
       "'aba'"
      ]
     },
     "execution_count": 6,
     "metadata": {},
     "output_type": "execute_result"
    }
   ],
   "source": [
    "import copy\n",
    "def palindromes(start: int, end: int, str1: str):\n",
    "    str2: str = ''.join(reversed(str1[start:end+1]))\n",
    "    return str1[start:end+1] == str2\n",
    "\n",
    "def search(str1: str):\n",
    "    start: int = 0\n",
    "    end: int = 0\n",
    "    for i in range(0, len(str1)-1):\n",
    "        for j in range(i+1, len(str1)):\n",
    "            if (palindromes(i,j,str1) == True) and (end-start <= j-i):\n",
    "                start = i\n",
    "                end = j\n",
    "                \n",
    "    return str1[start:end+1]\n",
    "        \n",
    "str1 = \"babad\"\n",
    "search(str1)"
   ]
  },
  {
   "cell_type": "markdown",
   "id": "5f54b630",
   "metadata": {},
   "source": [
    "# Задание 3"
   ]
  },
  {
   "cell_type": "markdown",
   "id": "566f1d3b",
   "metadata": {},
   "source": [
    "Вернуть количество отдельных непустых подстрок текста, которые могут быть записаны как конкатенация некоторой строки с самой собой (т.е. она может быть записана, как `a + a`, где `a` - некоторая строка)."
   ]
  },
  {
   "cell_type": "markdown",
   "id": "0f734fd8",
   "metadata": {},
   "source": [
    "## Ввод"
   ]
  },
  {
   "cell_type": "markdown",
   "id": "e0be5554",
   "metadata": {},
   "source": [
    "`aabb`"
   ]
  },
  {
   "cell_type": "markdown",
   "id": "ab8eda0b",
   "metadata": {},
   "source": [
    "## Вывод"
   ]
  },
  {
   "cell_type": "markdown",
   "id": "1d716d36",
   "metadata": {},
   "source": [
    "2"
   ]
  },
  {
   "cell_type": "markdown",
   "id": "fcd91349",
   "metadata": {},
   "source": [
    "## Исполняемый код записывать в ячейку ниже"
   ]
  },
  {
   "cell_type": "code",
   "execution_count": 28,
   "id": "be07379d",
   "metadata": {},
   "outputs": [
    {
     "data": {
      "text/plain": [
       "3"
      ]
     },
     "execution_count": 28,
     "metadata": {},
     "output_type": "execute_result"
    }
   ],
   "source": [
    "def task1_3(str1: str):\n",
    "    num: int = 0\n",
    "    check: bool = False\n",
    "    for i in range(0,len(str1)-1):\n",
    "        for j in range(i+1,len(str1)):\n",
    "            if str1[i]==str1[j] and j-i==1 and j<len(str1)-1 and str1[i]==str1[j+1]:            \n",
    "                check = True\n",
    "                continue\n",
    "            elif str1[i]==str1[j] and j-i==1:\n",
    "                num+=1\n",
    "                check = False\n",
    "                if j<len(str1)-1:\n",
    "                    i=j+1\n",
    "                break\n",
    "            if str1[i]==str1[j] and j-i>1 and j<len(str1)-1 and str1[i+1]==str1[j+1]:            \n",
    "                check = True\n",
    "                i+=1\n",
    "                continue\n",
    "            elif str1[i]==str1[j] and j-i>1 and check == True:\n",
    "                num+=1\n",
    "                check = False\n",
    "                if j<len(str1)-1:\n",
    "                    i=j+1\n",
    "                break\n",
    "    return num\n",
    "\n",
    "str1: str = 'aabbcc'\n",
    "task1_3(str1)\n",
    "            "
   ]
  }
 ],
 "metadata": {
  "kernelspec": {
   "display_name": "Python 3 (ipykernel)",
   "language": "python",
   "name": "python3"
  },
  "language_info": {
   "codemirror_mode": {
    "name": "ipython",
    "version": 3
   },
   "file_extension": ".py",
   "mimetype": "text/x-python",
   "name": "python",
   "nbconvert_exporter": "python",
   "pygments_lexer": "ipython3",
   "version": "3.10.2"
  }
 },
 "nbformat": 4,
 "nbformat_minor": 5
}

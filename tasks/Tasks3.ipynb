{
 "cells": [
  {
   "cell_type": "markdown",
   "id": "fifteen-sailing",
   "metadata": {},
   "source": [
    "# Набор заданий №3\n",
    "\n",
    "### Задание 1\n",
    "В Тридевятом Царстве уже много лет как установилась конституционная монархия. В парламент Тридевятого царства входят 26 партий, обозначаемых строчными буквами английского алфавита от «a» до «z». Заседание парламента в соответствии с регламентом проходит по следующей схеме:\n",
    "- В начале заседания никаких законопроектов на повестке дня не стоит.\n",
    "- Любая партия (в том числе и та, которая внесла текущий законопроект) в любой момент времени может внести на обсуждение новый законопроект.\n",
    "- При вносе партией нового законопроекта обсуждение предыдущего приостанавливается и начинается обсуждение нового. После того, как парламентарии голосуют за новый законопроект, обсуждение законопроекта, прерванного им, продолжается.\n",
    "- Дискуссия по любому законопроекту обязана завершиться голосованием по этому законопроекту.\n",
    "- В конце заседания не должно остаться внесённых законопроектов, дискуссия по которым не завершена.\n",
    "\n",
    "Вам дана запись о событиях на сессии парламента. Каждое событие является либо внесением нового законопроекта, либо голосованием за какой-то законопроект, причём в обоих случаях известен номер партии, этот законопроект предложившей. События даны в том порядке, в котором они происходили. Проверьте, может ли данная запись о событиях соответствовать какому-либо заседанию, удовлетворяющему порядку проведения, описанному выше.\n",
    "#### Ввод\n",
    "Первая строка входных данных содержит одно целое число *K* – количество строк в записи сессии (1 ≤ *K* ≤ 1000). Каждая строка соответствует одному из двух событий:\n",
    "\n",
    "- Add *x* – партия x внесла на голосование законопроект.\n",
    "- Vote *x* – прошло голосование за документ, внесённый партией *x*.\n",
    "\n",
    "Здесь *x* – строчная буква английского алфавита от «a» до «z», задающая партию.\n",
    "#### Вывод\n",
    "Выведите «Yes», если существует корректный порядок проведения заседания, который мог привести к такой записи, и «No», если ни при каком корректном порядке проведения заседания данная запись появиться не могла."
   ]
  },
  {
   "cell_type": "code",
   "execution_count": 1,
   "id": "concerned-lewis",
   "metadata": {},
   "outputs": [
    {
     "name": "stdout",
     "output_type": "stream",
     "text": [
      "Количество строк записи: 8\n",
      "Add x\n",
      "Add y\n",
      "Add z\n",
      "Vote z\n",
      "Add y\n",
      "Vote y\n",
      "Vote y\n",
      "Vote x\n"
     ]
    },
    {
     "data": {
      "text/plain": [
       "True"
      ]
     },
     "execution_count": 1,
     "metadata": {},
     "output_type": "execute_result"
    }
   ],
   "source": [
    "num = int(input('Количество строк записи: '))\n",
    "note: list[str] = []\n",
    "while num != 0:\n",
    "    string = input()\n",
    "    if (string[:3] == 'Add' or string[:4] == 'Vote') and ord(string[-1])>=97 and ord(string[-1])<=122:\n",
    "        note.append(string)\n",
    "        num -= 1\n",
    "    else:\n",
    "        break\n",
    "def check(note: list[str]):\n",
    "    res: bool = False\n",
    "    stack: list[str]=[]\n",
    "    for i in range(len(note)):\n",
    "        if len(note) == 1 or len(note) % 2 != 0:\n",
    "            res = False\n",
    "            return res\n",
    "        if stack == [] and note[i][:3] == 'Add' and note[i+1][:4] == 'Vote' and note[i][-1]==note[i+1][-1]:\n",
    "            res = True\n",
    "            i += 1\n",
    "        elif stack == [] and note[i][:3] == 'Add' and note[i+1][:4] == 'Vote' and note[i][-1]!=note[i+1][-1]:\n",
    "            res = False\n",
    "            return res\n",
    "        \n",
    "        if (note[i][:3] == 'Add' and note[i+1][:3] == 'Add') or (len(stack)!=0 and note[i][:3] == 'Add' and note[i+1][:4] == 'Vote'):\n",
    "            stack.append(note[i])\n",
    "            continue\n",
    "        elif len(stack)!=0 and note[i][:4] == 'Vote' and stack.pop()[-1] == note[i][-1]:\n",
    "            res = True\n",
    "            continue\n",
    "        elif len(stack)!=0 and note[i][:4] == 'Vote' and stack.pop()[-1] != note[i][-1]:\n",
    "            res = False\n",
    "            return res\n",
    "    return res\n",
    "\n",
    "check(note)"
   ]
  },
  {
   "cell_type": "markdown",
   "id": "controversial-location",
   "metadata": {},
   "source": [
    "### Задача 2. Правильный подмногоугольник\n",
    "\n",
    "Задан правильный *N*-угольник. Требуется выбрать наименьшее количество его вершин, которые также образуют правильный многоугольник.\n",
    "\n",
    "#### Входные данные\n",
    "\n",
    "Входные данные содержат одно целое число *N* (3 ≤ *N* ≤ 1012).\n",
    "\n",
    "#### Вывод\n",
    "\n",
    "Выведите одно число — наименьшее количество вершин заданного многоугольника, которые образуют правильный многоугольник."
   ]
  },
  {
   "cell_type": "code",
   "execution_count": 2,
   "id": "coated-highway",
   "metadata": {},
   "outputs": [
    {
     "data": {
      "text/plain": [
       "3"
      ]
     },
     "execution_count": 2,
     "metadata": {},
     "output_type": "execute_result"
    }
   ],
   "source": [
    "import math\n",
    "import sympy\n",
    "def regular_polygon(N: int):\n",
    "    if N < 3:\n",
    "        return 0\n",
    "    if N % 3 == 0:\n",
    "        return 3\n",
    "    elif N % 4 == 0:\n",
    "        return 4\n",
    "    elif N % 2 != 0:\n",
    "        i = 2\n",
    "        while i < math.sqrt(N):\n",
    "            if N % i == 0:\n",
    "                return i\n",
    "            i += 1\n",
    "            while not sympy.isprime(i):\n",
    "                i += 1\n",
    "        return N\n",
    "    elif N % 2 == 0:\n",
    "        i = 5\n",
    "        while i < math.sqrt(N):\n",
    "            if N % i == 0:\n",
    "                return i\n",
    "            i += 1\n",
    "            while not sympy.isprime(i) or i % 2 != 0:\n",
    "                i += 1\n",
    "        return N // 2\n",
    "\n",
    "N = 21\n",
    "regular_polygon(N)"
   ]
  },
  {
   "cell_type": "markdown",
   "id": "cordless-fundamentals",
   "metadata": {},
   "source": [
    "### Задача 3.\n",
    "\n",
    "На форуме, на котором обсуждаются задачи олимпиад по информатике, ввели следующий аналог капчи. Участнику выдаётся строка из *N* десятичных цифр (без ведущих нулей). В качестве ответа требуется ввести такое основание системы счисления *B*, что в этой системе счисления выданная запись будет соответствовать составному числу (назовем его *D*), а также число *X*, большее 1 и меньшее *D*, являющееся делителем *D*.\n",
    "\n",
    "При этом *B* и *X* не должны превосходить 10^9.\n",
    "\n",
    "По заданной строке десятичных цифр найдите любую пару чисел *B* и *X*, удовлетворяющую ограничениям, или ответьте, что решения в заданных ограничениях не существует.\n",
    "\n",
    "#### Входные данные\n",
    "\n",
    "Входные данные состоят из непустой строки длиной до 3 ⋅ 106 символов, составленной из цифр от 0 до 9 и не начинающейся с 0.\n",
    "\n",
    "#### Вывод\n",
    "\n",
    "Если решение существует, выведите два числа – основание системы счисления *B* и делитель *X*, записанные в десятичной системе счисления. Оба числа должны удовлетворять ограничениям 2 ≤ *B*, *X* ≤ 10^9. Если решения не существует, выведите –1."
   ]
  },
  {
   "cell_type": "code",
   "execution_count": 3,
   "id": "jewish-rocket",
   "metadata": {
    "scrolled": true
   },
   "outputs": [
    {
     "name": "stdout",
     "output_type": "stream",
     "text": [
      "11 2\n"
     ]
    }
   ],
   "source": [
    "def delitel(num: str):\n",
    "    system = num_system(num)\n",
    "    num_int: int = translate(int(num), system)\n",
    "    i = 2\n",
    "    while num_int % i != 0:\n",
    "        i += 1\n",
    "    return i\n",
    "\n",
    "def translate(num: int, system: int):\n",
    "    string: str = ''\n",
    "    while num > 0:\n",
    "        string += str(num % system)\n",
    "        num = num // system\n",
    "    string = ''.join(reversed(string))\n",
    "    return int(string)\n",
    "\n",
    "def num_system(num: str):\n",
    "    sum = 0\n",
    "    for i in range(len(num)):\n",
    "        sum += int(num[i])\n",
    "    return sum+1\n",
    "\n",
    "num = \"19\"\n",
    "print(num_system(num), delitel(num))"
   ]
  }
 ],
 "metadata": {
  "kernelspec": {
   "display_name": "Python 3 (ipykernel)",
   "language": "python",
   "name": "python3"
  },
  "language_info": {
   "codemirror_mode": {
    "name": "ipython",
    "version": 3
   },
   "file_extension": ".py",
   "mimetype": "text/x-python",
   "name": "python",
   "nbconvert_exporter": "python",
   "pygments_lexer": "ipython3",
   "version": "3.10.2"
  }
 },
 "nbformat": 4,
 "nbformat_minor": 5
}
